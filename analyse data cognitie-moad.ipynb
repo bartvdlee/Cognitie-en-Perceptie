{
 "cells": [
  {
   "cell_type": "markdown",
   "metadata": {},
   "source": [
    "# Analyse van de data - Cognitie en Perceptie\n",
    "Moad Matoug, Luca van Kessel, Thom Varela Nunes, Bart van der Lee, Arman Aghsami"
   ]
  },
  {
   "cell_type": "markdown",
   "metadata": {},
   "source": [
    "## Imports"
   ]
  },
  {
   "cell_type": "code",
   "execution_count": 1,
   "metadata": {},
   "outputs": [],
   "source": [
    "import pandas as pd\n",
    "pd.options.mode.chained_assignment = None\n",
    "import matplotlib.pyplot as plt\n",
    "import seaborn as sns\n",
    "import numpy as np\n",
    "import scipy.stats as stats\n",
    "import re\n",
    "from scipy.stats import pearsonr"
   ]
  },
  {
   "cell_type": "markdown",
   "metadata": {},
   "source": [
    "## Openen en opschonen data"
   ]
  },
  {
   "cell_type": "markdown",
   "metadata": {},
   "source": [
    "#### We beginnen met het importeren en opschonen van de data die we als eerste hebben verzameld"
   ]
  },
  {
   "cell_type": "code",
   "execution_count": 2,
   "metadata": {},
   "outputs": [
    {
     "name": "stdout",
     "output_type": "stream",
     "text": [
      "Shape van alle data: (82, 86) \n",
      "\n",
      "['Man' 'Vrouw' 'Dat zeg ik liever niet']\n",
      "Eerste vijf rijen van de opgeschoonde data:\n"
     ]
    },
    {
     "data": {
      "text/html": [
       "<div>\n",
       "<style scoped>\n",
       "    .dataframe tbody tr th:only-of-type {\n",
       "        vertical-align: middle;\n",
       "    }\n",
       "\n",
       "    .dataframe tbody tr th {\n",
       "        vertical-align: top;\n",
       "    }\n",
       "\n",
       "    .dataframe thead th {\n",
       "        text-align: right;\n",
       "    }\n",
       "</style>\n",
       "<table border=\"1\" class=\"dataframe\">\n",
       "  <thead>\n",
       "    <tr style=\"text-align: right;\">\n",
       "      <th></th>\n",
       "      <th>geslacht</th>\n",
       "      <th>amount_go</th>\n",
       "      <th>go_mistakes</th>\n",
       "      <th>amount_no_go</th>\n",
       "      <th>no_go_mistakes</th>\n",
       "      <th>sport_uur_week</th>\n",
       "      <th>sport_frequentie</th>\n",
       "      <th>soort_sport</th>\n",
       "      <th>sport_sessie_duur</th>\n",
       "      <th>studie</th>\n",
       "    </tr>\n",
       "  </thead>\n",
       "  <tbody>\n",
       "    <tr>\n",
       "      <th>1</th>\n",
       "      <td>Man</td>\n",
       "      <td>16.0</td>\n",
       "      <td>0.0</td>\n",
       "      <td>2.0</td>\n",
       "      <td>2.0</td>\n",
       "      <td>2.0</td>\n",
       "      <td>1</td>\n",
       "      <td>fitness</td>\n",
       "      <td>1</td>\n",
       "      <td>informatiekunde</td>\n",
       "    </tr>\n",
       "    <tr>\n",
       "      <th>2</th>\n",
       "      <td>Man</td>\n",
       "      <td>16.0</td>\n",
       "      <td>1.0</td>\n",
       "      <td>3.0</td>\n",
       "      <td>3.0</td>\n",
       "      <td>8.0</td>\n",
       "      <td>3</td>\n",
       "      <td>Rennen, voetballen, boksen</td>\n",
       "      <td>2</td>\n",
       "      <td>informatiekunde</td>\n",
       "    </tr>\n",
       "    <tr>\n",
       "      <th>3</th>\n",
       "      <td>Vrouw</td>\n",
       "      <td>16.0</td>\n",
       "      <td>0.0</td>\n",
       "      <td>2.0</td>\n",
       "      <td>0.0</td>\n",
       "      <td>3.0</td>\n",
       "      <td>3</td>\n",
       "      <td>fietsen</td>\n",
       "      <td>0</td>\n",
       "      <td>informatiekunde</td>\n",
       "    </tr>\n",
       "    <tr>\n",
       "      <th>4</th>\n",
       "      <td>Man</td>\n",
       "      <td>16.0</td>\n",
       "      <td>0.0</td>\n",
       "      <td>2.0</td>\n",
       "      <td>1.0</td>\n",
       "      <td>3.0</td>\n",
       "      <td>1</td>\n",
       "      <td>Voetbal</td>\n",
       "      <td>2</td>\n",
       "      <td>informatiekunde</td>\n",
       "    </tr>\n",
       "    <tr>\n",
       "      <th>5</th>\n",
       "      <td>Man</td>\n",
       "      <td>200.0</td>\n",
       "      <td>6.0</td>\n",
       "      <td>25.0</td>\n",
       "      <td>19.0</td>\n",
       "      <td>6.0</td>\n",
       "      <td>2</td>\n",
       "      <td>Fitness, Kickboksen</td>\n",
       "      <td>2</td>\n",
       "      <td>informatiekunde</td>\n",
       "    </tr>\n",
       "  </tbody>\n",
       "</table>\n",
       "</div>"
      ],
      "text/plain": [
       "  geslacht  amount_go  go_mistakes  amount_no_go  no_go_mistakes  \\\n",
       "1      Man       16.0          0.0           2.0             2.0   \n",
       "2      Man       16.0          1.0           3.0             3.0   \n",
       "3    Vrouw       16.0          0.0           2.0             0.0   \n",
       "4      Man       16.0          0.0           2.0             1.0   \n",
       "5      Man      200.0          6.0          25.0            19.0   \n",
       "\n",
       "   sport_uur_week  sport_frequentie                 soort_sport  \\\n",
       "1             2.0                 1                     fitness   \n",
       "2             8.0                 3  Rennen, voetballen, boksen   \n",
       "3             3.0                 3                     fietsen   \n",
       "4             3.0                 1                     Voetbal   \n",
       "5             6.0                 2         Fitness, Kickboksen   \n",
       "\n",
       "   sport_sessie_duur           studie  \n",
       "1                  1  informatiekunde  \n",
       "2                  2  informatiekunde  \n",
       "3                  0  informatiekunde  \n",
       "4                  2  informatiekunde  \n",
       "5                  2  informatiekunde  "
      ]
     },
     "metadata": {},
     "output_type": "display_data"
    },
    {
     "name": "stdout",
     "output_type": "stream",
     "text": [
      "Shape van de opgeschoonde data: (79, 10)\n"
     ]
    }
   ],
   "source": [
    "# Importeer de data\n",
    "alle_data = pd.read_csv(\"data2024.csv\")\n",
    "\n",
    "\n",
    "# Print de shape van alle_data\n",
    "print('Shape van alle data:', alle_data.shape, '\\n')\n",
    "\n",
    "\n",
    "# Verkort de ellendige lange kolomnamen\n",
    "alle_data.columns = [col.split(':')[0] for col in alle_data.columns]\n",
    "\n",
    "\n",
    "# Pak alle relevante data (namelijk alle resultaten van de SART tests en de survey data over sport)\n",
    "data = alle_data[['Q4', 'Q13_1', 'Q13_2', 'Q13_4', 'Q13_5', 'Q41', 'Q42', 'Q43', 'Q44']]\n",
    "\n",
    "# Verander de kolomnamen naar iets leesbaarders\n",
    "data.columns = ['geslacht', 'amount_go', 'go_mistakes', 'amount_no_go', 'no_go_mistakes', 'sport_uur_week', 'sport_frequentie', 'soort_sport', 'sport_sessie_duur']\n",
    "data['studie'] = 'informatiekunde'\n",
    "\n",
    "print(data.geslacht.unique())\n",
    "# We maken van sport_uur_week een numerieke waarde\n",
    "sport_data = list()\n",
    "\n",
    "for value in data['sport_uur_week']:\n",
    "    regex_match = re.search(\"\\d\", value)\n",
    "\n",
    "    if isinstance(regex_match, type(None)):\n",
    "        sport_data.append(np.nan)\n",
    "            \n",
    "    else:\n",
    "        sport_data.append(int(regex_match.group(0)))\n",
    "\n",
    "data['sport_uur_week'] = sport_data\n",
    "\n",
    "\n",
    "# Er zitten NaN waarden in de data. Hier kunnen we niks mee en dus moeten we deze rijen verwijderen\n",
    "data = data.dropna(subset=['amount_go', 'go_mistakes', 'amount_no_go', 'no_go_mistakes', 'sport_uur_week', 'sport_frequentie', 'sport_sessie_duur'])\n",
    "\n",
    "\n",
    "# Vervolgens gaan we de categorische data omzetten naar numerieke waarden\n",
    "data['sport_frequentie'] = data['sport_frequentie'].map({'Nooit': 0, '1-2 keer': 1, '3-4 keer': 2, '5 keer of meer': 3})\n",
    "data['sport_sessie_duur'] = data['sport_sessie_duur'].map({'Minder dan 30 minuten': 0, '30-60 minuten': 1, '1-2 uur' : 2, 'Meer dan 2 uur': 3})\n",
    "\n",
    "\n",
    "# Print de eerste vijf rijen van de data en de shape\n",
    "print('Eerste vijf rijen van de opgeschoonde data:')\n",
    "display(data.head())\n",
    "print('Shape van de opgeschoonde data:', data.shape)"
   ]
  },
  {
   "cell_type": "markdown",
   "metadata": {},
   "source": [
    "#### Nu gaan we de extra data die we hebben verzameld importeren en opschonen"
   ]
  },
  {
   "cell_type": "code",
   "execution_count": 3,
   "metadata": {},
   "outputs": [
    {
     "name": "stdout",
     "output_type": "stream",
     "text": [
      "Index(['Tijdstempel', 'Wat is uw geslacht?', 'Wat is uw leeftijd?',\n",
      "       'Wat voor studie volgt u momenteel? (Indien u geen studie volgt kunt u 'nvt' beantwoorden)',\n",
      "       'Number Go Trials', 'Number Go Mistakes', 'Go Mistakes %',\n",
      "       'Number No Go Trials', 'Number No Go Mistakes', 'No Go Mistakes %',\n",
      "       'Welke vorm van fysieke activiteit doe je meestal? (indien je meerdere sporten verricht benoem het als volgt: sport1,sport2...)',\n",
      "       'Hoe vaak per week doe je aan fysieke activiteit (minstens 30 minuten per sessie)?',\n",
      "       'Hoe lang duurt een gemiddelde sessie van fysieke activiteit?'],\n",
      "      dtype='object')\n",
      "Shape van alle extra data: (20, 13) \n",
      "\n",
      "Shape van de opgeschoonde extra data: (17, 10) \n",
      "\n",
      "\n",
      "Eerste vijf rijen van de opgeschoonde data:\n"
     ]
    },
    {
     "data": {
      "text/html": [
       "<div>\n",
       "<style scoped>\n",
       "    .dataframe tbody tr th:only-of-type {\n",
       "        vertical-align: middle;\n",
       "    }\n",
       "\n",
       "    .dataframe tbody tr th {\n",
       "        vertical-align: top;\n",
       "    }\n",
       "\n",
       "    .dataframe thead th {\n",
       "        text-align: right;\n",
       "    }\n",
       "</style>\n",
       "<table border=\"1\" class=\"dataframe\">\n",
       "  <thead>\n",
       "    <tr style=\"text-align: right;\">\n",
       "      <th></th>\n",
       "      <th>geslacht</th>\n",
       "      <th>amount_go</th>\n",
       "      <th>go_mistakes</th>\n",
       "      <th>amount_no_go</th>\n",
       "      <th>no_go_mistakes</th>\n",
       "      <th>sport_uur_week</th>\n",
       "      <th>sport_frequentie</th>\n",
       "      <th>soort_sport</th>\n",
       "      <th>sport_sessie_duur</th>\n",
       "      <th>studie</th>\n",
       "    </tr>\n",
       "  </thead>\n",
       "  <tbody>\n",
       "    <tr>\n",
       "      <th>0</th>\n",
       "      <td>Man</td>\n",
       "      <td>200.0</td>\n",
       "      <td>0.0</td>\n",
       "      <td>25.0</td>\n",
       "      <td>5.0</td>\n",
       "      <td>3</td>\n",
       "      <td>3</td>\n",
       "      <td>Voetbal, gym</td>\n",
       "      <td>1.0</td>\n",
       "      <td>Informatiekunde</td>\n",
       "    </tr>\n",
       "    <tr>\n",
       "      <th>1</th>\n",
       "      <td>Man</td>\n",
       "      <td>200.0</td>\n",
       "      <td>0.0</td>\n",
       "      <td>25.0</td>\n",
       "      <td>7.0</td>\n",
       "      <td>3</td>\n",
       "      <td>5</td>\n",
       "      <td>fitness,dans,fietsen,wandelen</td>\n",
       "      <td>0.5</td>\n",
       "      <td>WO Bachelor</td>\n",
       "    </tr>\n",
       "    <tr>\n",
       "      <th>4</th>\n",
       "      <td>Man</td>\n",
       "      <td>200.0</td>\n",
       "      <td>40.0</td>\n",
       "      <td>30.0</td>\n",
       "      <td>21.0</td>\n",
       "      <td>3</td>\n",
       "      <td>3</td>\n",
       "      <td>fitness</td>\n",
       "      <td>1.0</td>\n",
       "      <td>Bedrijfskunde</td>\n",
       "    </tr>\n",
       "    <tr>\n",
       "      <th>5</th>\n",
       "      <td>Man</td>\n",
       "      <td>200.0</td>\n",
       "      <td>8.0</td>\n",
       "      <td>25.0</td>\n",
       "      <td>23.0</td>\n",
       "      <td>3</td>\n",
       "      <td>3</td>\n",
       "      <td>sportschool</td>\n",
       "      <td>1.0</td>\n",
       "      <td>gezondheidswetenschappen</td>\n",
       "    </tr>\n",
       "    <tr>\n",
       "      <th>6</th>\n",
       "      <td>Man</td>\n",
       "      <td>16.0</td>\n",
       "      <td>0.0</td>\n",
       "      <td>2.0</td>\n",
       "      <td>1.0</td>\n",
       "      <td>3</td>\n",
       "      <td>5</td>\n",
       "      <td>Fitness</td>\n",
       "      <td>0.5</td>\n",
       "      <td>Informatiekunde</td>\n",
       "    </tr>\n",
       "  </tbody>\n",
       "</table>\n",
       "</div>"
      ],
      "text/plain": [
       "  geslacht  amount_go  go_mistakes  amount_no_go  no_go_mistakes  \\\n",
       "0      Man      200.0          0.0          25.0             5.0   \n",
       "1      Man      200.0          0.0          25.0             7.0   \n",
       "4      Man      200.0         40.0          30.0            21.0   \n",
       "5      Man      200.0          8.0          25.0            23.0   \n",
       "6      Man       16.0          0.0           2.0             1.0   \n",
       "\n",
       "   sport_uur_week  sport_frequentie                    soort_sport  \\\n",
       "0               3                 3                   Voetbal, gym   \n",
       "1               3                 5  fitness,dans,fietsen,wandelen   \n",
       "4               3                 3                        fitness   \n",
       "5               3                 3                    sportschool   \n",
       "6               3                 5                        Fitness   \n",
       "\n",
       "   sport_sessie_duur                    studie  \n",
       "0                1.0           Informatiekunde  \n",
       "1                0.5               WO Bachelor  \n",
       "4                1.0             Bedrijfskunde  \n",
       "5                1.0  gezondheidswetenschappen  \n",
       "6                0.5           Informatiekunde  "
      ]
     },
     "metadata": {},
     "output_type": "display_data"
    }
   ],
   "source": [
    "# Importeer de extra data\n",
    "extra_data = pd.read_csv(\"extra_data.csv\")\n",
    "\n",
    "print(extra_data.columns)\n",
    "# Print de shape van extra_data\n",
    "print('Shape van alle extra data:', extra_data.shape, '\\n')\n",
    "\n",
    "\n",
    "# Verwijder de rijen van participanten die geen opleiding volgen; dit onderzoek kijkt immers naar Nederlandse studenten\n",
    "extra_data = extra_data[extra_data[\"Wat voor studie volgt u momenteel? (Indien u geen studie volgt kunt u 'nvt' beantwoorden)\"] != 'nvt']\n",
    "\n",
    "\n",
    "# Pak de kolommen die we nodig hebben\n",
    "extra_data = extra_data[['Wat is uw geslacht?','Number Go Trials', 'Number Go Mistakes', 'Number No Go Trials', 'Number No Go Mistakes',\n",
    "                         'Hoe vaak per week doe je aan fysieke activiteit (minstens 30 minuten per sessie)?',\n",
    "                         'Welke vorm van fysieke activiteit doe je meestal? (indien je meerdere sporten verricht benoem het als volgt: sport1,sport2...)',\n",
    "                         'Hoe lang duurt een gemiddelde sessie van fysieke activiteit?', \"Wat voor studie volgt u momenteel? (Indien u geen studie volgt kunt u 'nvt' beantwoorden)\"]]\n",
    "\n",
    "\n",
    "# Hernoem de kolommen naar namen die overeenkomen met de andere data\n",
    "extra_data.columns = ['geslacht', 'amount_go', 'go_mistakes', 'amount_no_go', 'no_go_mistakes', 'sport_frequentie', 'soort_sport', 'sport_sessie_duur', 'studie']\n",
    "\n",
    "\n",
    "# We maken van sport_frequentie een numerieke waarde\n",
    "freq_data = list()\n",
    "\n",
    "for value in extra_data['sport_frequentie']:\n",
    "    regex_match = re.search(\"\\d\", value)\n",
    "\n",
    "    if isinstance(regex_match, type(None)):\n",
    "        freq_data.append(np.nan)\n",
    "            \n",
    "    else:\n",
    "        freq_data.append(int(regex_match.group(0)))\n",
    "\n",
    "extra_data['sport_frequentie'] = freq_data\n",
    "\n",
    "\n",
    "# We maken van sport_sessie_duur een numerieke waarde\n",
    "sessie_data = list()\n",
    "\n",
    "for value in extra_data['sport_sessie_duur']:\n",
    "    regex_match = re.search(\"\\d\", value)\n",
    "\n",
    "    if isinstance(regex_match, type(None)):\n",
    "        sessie_data.append(np.nan)\n",
    "    \n",
    "    elif regex_match.group(0) == '3':\n",
    "        sessie_data.append(0.5)\n",
    "\n",
    "    else:\n",
    "        sessie_data.append(int(regex_match.group(0)))\n",
    "\n",
    "extra_data['sport_sessie_duur'] = sessie_data\n",
    "\n",
    "\n",
    "# Bereken het aantal uur dat iemand per week sport en sla dit op in de nieuwe kolom 'sport_uur_week'\n",
    "extra_data['sport_uur_week'] = extra_data['sport_frequentie'] * extra_data['sport_sessie_duur']\n",
    "\n",
    "\n",
    "# Rond de getallen af en maak er integers van (de + 0.1 is om te zorgen dat de getallen correct worden afgerond)\n",
    "extra_data['sport_uur_week'] = (extra_data['sport_uur_week'] + 0.1).round().astype(int)\n",
    "\n",
    "\n",
    "# Verander de volgorde van de kolommen om overeen te komen met de andere data\n",
    "extra_data = extra_data[['geslacht', 'amount_go', 'go_mistakes', 'amount_no_go', 'no_go_mistakes', 'sport_uur_week', 'sport_frequentie', 'soort_sport', 'sport_sessie_duur', 'studie']]\n",
    "\n",
    "\n",
    "# Er zitten NaN waarden in de data. Hier kunnen we niks mee en dus moeten we deze rijen verwijderen\n",
    "extra_data = extra_data.dropna(subset=['amount_go', 'go_mistakes', 'amount_no_go', 'no_go_mistakes', 'sport_uur_week', 'sport_frequentie', 'sport_sessie_duur'])\n",
    "\n",
    "\n",
    "# Print de shape van de opgeschoonde extra_data\n",
    "print('Shape van de opgeschoonde extra data:', extra_data.shape, '\\n')\n",
    "\n",
    "\n",
    "# Print de eerste vijf rijen van de opgeschoonde extra_data\n",
    "print('\\nEerste vijf rijen van de opgeschoonde data:')\n",
    "display(extra_data.head())"
   ]
  },
  {
   "cell_type": "markdown",
   "metadata": {},
   "source": [
    "#### Als laatste gaan we de bruikbare data uit de eerste verzamelronde en de bruikbare data uit de tweede verzamelronde samenvoegen"
   ]
  },
  {
   "cell_type": "code",
   "execution_count": 4,
   "metadata": {},
   "outputs": [
    {
     "name": "stdout",
     "output_type": "stream",
     "text": [
      "Shape van de samengevoegde data: (35, 8) \n",
      "\n",
      "Eerste vijf rijen van de samengevoegde data:\n"
     ]
    },
    {
     "data": {
      "text/html": [
       "<div>\n",
       "<style scoped>\n",
       "    .dataframe tbody tr th:only-of-type {\n",
       "        vertical-align: middle;\n",
       "    }\n",
       "\n",
       "    .dataframe tbody tr th {\n",
       "        vertical-align: top;\n",
       "    }\n",
       "\n",
       "    .dataframe thead th {\n",
       "        text-align: right;\n",
       "    }\n",
       "</style>\n",
       "<table border=\"1\" class=\"dataframe\">\n",
       "  <thead>\n",
       "    <tr style=\"text-align: right;\">\n",
       "      <th></th>\n",
       "      <th>geslacht</th>\n",
       "      <th>amount_go</th>\n",
       "      <th>go_mistakes</th>\n",
       "      <th>amount_no_go</th>\n",
       "      <th>no_go_mistakes</th>\n",
       "      <th>sport_uur_week</th>\n",
       "      <th>soort_sport</th>\n",
       "      <th>studie</th>\n",
       "    </tr>\n",
       "  </thead>\n",
       "  <tbody>\n",
       "    <tr>\n",
       "      <th>0</th>\n",
       "      <td>Man</td>\n",
       "      <td>200.0</td>\n",
       "      <td>6.0</td>\n",
       "      <td>25.0</td>\n",
       "      <td>19.0</td>\n",
       "      <td>6.0</td>\n",
       "      <td>Fitness, Kickboksen</td>\n",
       "      <td>informatiekunde</td>\n",
       "    </tr>\n",
       "    <tr>\n",
       "      <th>1</th>\n",
       "      <td>Man</td>\n",
       "      <td>200.0</td>\n",
       "      <td>0.0</td>\n",
       "      <td>25.0</td>\n",
       "      <td>18.0</td>\n",
       "      <td>7.0</td>\n",
       "      <td>Sportschool</td>\n",
       "      <td>informatiekunde</td>\n",
       "    </tr>\n",
       "    <tr>\n",
       "      <th>2</th>\n",
       "      <td>Man</td>\n",
       "      <td>200.0</td>\n",
       "      <td>0.0</td>\n",
       "      <td>25.0</td>\n",
       "      <td>7.0</td>\n",
       "      <td>1.0</td>\n",
       "      <td>Karten</td>\n",
       "      <td>informatiekunde</td>\n",
       "    </tr>\n",
       "    <tr>\n",
       "      <th>3</th>\n",
       "      <td>Man</td>\n",
       "      <td>200.0</td>\n",
       "      <td>1.0</td>\n",
       "      <td>25.0</td>\n",
       "      <td>19.0</td>\n",
       "      <td>4.0</td>\n",
       "      <td>Fitness</td>\n",
       "      <td>informatiekunde</td>\n",
       "    </tr>\n",
       "    <tr>\n",
       "      <th>4</th>\n",
       "      <td>Vrouw</td>\n",
       "      <td>200.0</td>\n",
       "      <td>4.0</td>\n",
       "      <td>25.0</td>\n",
       "      <td>12.0</td>\n",
       "      <td>2.0</td>\n",
       "      <td>Sportschool, fietsen, wandelen</td>\n",
       "      <td>informatiekunde</td>\n",
       "    </tr>\n",
       "  </tbody>\n",
       "</table>\n",
       "</div>"
      ],
      "text/plain": [
       "  geslacht  amount_go  go_mistakes  amount_no_go  no_go_mistakes  \\\n",
       "0      Man      200.0          6.0          25.0            19.0   \n",
       "1      Man      200.0          0.0          25.0            18.0   \n",
       "2      Man      200.0          0.0          25.0             7.0   \n",
       "3      Man      200.0          1.0          25.0            19.0   \n",
       "4    Vrouw      200.0          4.0          25.0            12.0   \n",
       "\n",
       "   sport_uur_week                     soort_sport           studie  \n",
       "0             6.0             Fitness, Kickboksen  informatiekunde  \n",
       "1             7.0                     Sportschool  informatiekunde  \n",
       "2             1.0                          Karten  informatiekunde  \n",
       "3             4.0                         Fitness  informatiekunde  \n",
       "4             2.0  Sportschool, fietsen, wandelen  informatiekunde  "
      ]
     },
     "metadata": {},
     "output_type": "display_data"
    }
   ],
   "source": [
    "'''\n",
    "Gezien de data in de kolommen 'sport_frequentie' en 'sport_sessie_duur' van de extra data niet gelijkvormig zijn aan de eerst verzamelde data,\n",
    " zullen we deze kolommen verwijderen\n",
    "'''\n",
    "data = data.drop(columns=['sport_frequentie', 'sport_sessie_duur'])\n",
    "extra_data = extra_data.drop(columns=['sport_frequentie', 'sport_sessie_duur'])\n",
    "\n",
    "\n",
    "# Voeg de data samen\n",
    "data = pd.concat([data, extra_data], ignore_index=True)\n",
    "\n",
    "\n",
    "# Nu gaan we uit dit gecombineerde dataframe de onbruikbare data filteren\n",
    "data = data[data['amount_go'] == 200]\n",
    "data = data[data['amount_no_go'] == 25]\n",
    "\n",
    "\n",
    "# Reset de index van de data\n",
    "data = data.reset_index(drop=True)\n",
    "\n",
    "\n",
    "# Print de shape van de samengevoegde data\n",
    "print('Shape van de samengevoegde data:', data.shape, '\\n')\n",
    "\n",
    "\n",
    "# Print de eerste vijf rijen van de samengevoegde data\n",
    "print('Eerste vijf rijen van de samengevoegde data:')\n",
    "display(data.head())"
   ]
  },
  {
   "cell_type": "markdown",
   "metadata": {},
   "source": [
    "## Analyse"
   ]
  },
  {
   "cell_type": "code",
   "execution_count": 5,
   "metadata": {},
   "outputs": [
    {
     "data": {
      "image/png": "[encoded data removed]",
      "text/plain": [
       "<Figure size 640x480 with 1 Axes>"
      ]
     },
     "metadata": {},
     "output_type": "display_data"
    },
    {
     "name": "stdout",
     "output_type": "stream",
     "text": [
      "\n",
      "Een Pearson correlatie coëfficient van 0.17079421093224226 betekent dat er een zeer zwakke correlatie is tussen de sport uren en de SART score.\n",
      "Een p-value van 0.32660824044425596 betekent dat er geen significant verband is tussen de sport uren en de SART score.\n"
     ]
    }
   ],
   "source": [
    "# Bereken de percentages van de fouten die gemaakt zijn bij de SART test\n",
    "go_mistake_percentage = data['go_mistakes'] / data['amount_go']\n",
    "no_go_mistake_percentage = data['no_go_mistakes'] / data['amount_no_go']\n",
    "\n",
    "\n",
    "# Voeg deze percentages toe aan het dataframe\n",
    "data['go_mistake_percentage'] = go_mistake_percentage\n",
    "data['no_go_mistake_percentage'] = no_go_mistake_percentage\n",
    "\n",
    "\n",
    "# Er bestaan fouten percentages van boven de 100% in de data, dit kan niet en dus gaan we deze rijen verwijderen\n",
    "data = data[data['go_mistake_percentage'] <= 1]\n",
    "data = data[data['no_go_mistake_percentage'] <= 1]\n",
    "\n",
    "\n",
    "# Hoe lager de percentages fouten, hoe beter de score\n",
    "# We gaan kijken of er een verband zit tussen het beoefenen van sport en de scores op de SART test\n",
    "# Hypothese: Meer sport zorgt voor lager fout percentage\n",
    "\n",
    "\n",
    "# We beginnen met het maken van een gecombineerde score voor de go en no-go fouten\n",
    "data['score'] = (data['go_mistake_percentage'] + data['no_go_mistake_percentage']) / 2\n",
    "\n",
    "\n",
    "# We maken een boxplot van de sport data en de gecombineerde SART score (outliers zijn niet geplot)\n",
    "sns.scatterplot(x='sport_uur_week', y='score', data=data.sort_values('sport_uur_week'))\n",
    "plt.title('SART test fouten in relatie tot uren sport per week')\n",
    "plt.xlabel('Wekelijkse sporturen')\n",
    "plt.ylabel('Gecombineerde SART score (lager is beter)')\n",
    "plt.show()\n",
    "\n",
    "\n",
    "# We gaan nu de correlatie berekenen tussen de sport uren en de SART score door gebruik te maken van de Pearson correlatie\n",
    "correlation_coefficient, p_value = stats.pearsonr(data['sport_uur_week'], data['score'])\n",
    "\n",
    "\n",
    "if abs(correlation_coefficient) < 0.3:\n",
    "    print(f'\\nEen Pearson correlatie coëfficient van {correlation_coefficient} betekent dat er een zeer zwakke correlatie is tussen de sport uren en de SART score.')\n",
    "\n",
    "if p_value > 0.05:\n",
    "    print(f'Een p-value van {p_value} betekent dat er geen significant verband is tussen de sport uren en de SART score.')"
   ]
  },
  {
   "cell_type": "markdown",
   "metadata": {},
   "source": [
    "## Testen van betrouwbaarheid van de data\n",
    "Dit wordt gedaan met behulp van een functie, omdat dat het berekenen van de foutmarges versnelt"
   ]
  },
  {
   "cell_type": "code",
   "execution_count": 6,
   "metadata": {},
   "outputs": [],
   "source": [
    "def margin_of_error(value, sample_size, confidence_interval = 0.95) -> float:\n",
    "    \"\"\"\n",
    "    Bereken de margin of error van een waarde met een bepaalde sample size en confidence interval.\n",
    "    Standaardwaarde voor confidence interval is 0.95\n",
    "\n",
    "    >>> margin_of_error(0.5, 100)\n",
    "    0.72\n",
    "    \"\"\"\n",
    "    # Fisher Z-transformatie\n",
    "    z = np.arctanh(value)\n",
    "\n",
    "    # Bereken de standaardfout\n",
    "    se = 1 / np.sqrt(sample_size - 3)\n",
    "\n",
    "    # Bereken de kritieke waarde voor het gegeven betrouwbaarheidsniveau\n",
    "    z_critical = stats.norm.ppf(1 - (1 - confidence_interval) / 2)\n",
    "\n",
    "    # Bereken de bovengrens van de betrouwbaarheidsinterval\n",
    "    ci_upper = np.tanh(z + z_critical * se)\n",
    "\n",
    "    # Geeft de margin of error\n",
    "    return round(ci_upper - value, 2)"
   ]
  },
  {
   "cell_type": "code",
   "execution_count": 7,
   "metadata": {},
   "outputs": [
    {
     "name": "stdout",
     "output_type": "stream",
     "text": [
      "Pearson waarde met foutmarge = 0.17 ± 0.31\n",
      "P-waarde waarde met foutmarge = 0.33 ± 0.27\n"
     ]
    }
   ],
   "source": [
    "# We gaan nu een betrouwbaarheidsinterval berekenen voor de Pearson correlatie coëfficient\n",
    "\n",
    "# correlation_coefficient is de Pearson correlatie tussen de gecombineerde score en sport_uur_week\n",
    "n = data.shape[0]  # Aantal waarnemingen\n",
    "confidence = 0.95  # Betrouwbaarheidsniveau\n",
    "moe = margin_of_error(correlation_coefficient, n, confidence)\n",
    "\n",
    "# Print de Pearson correlatie coëfficiënt en de bijbehorende foutmarge\n",
    "print(f\"Pearson waarde met foutmarge = {correlation_coefficient:.2f} ± {moe}\")\n",
    "\n",
    "# Nu gaan we de foutmarge van de p-waarde berekenen\n",
    "# Print de p-waarde en de bijbehorende foutmarge\n",
    "print(f\"P-waarde waarde met foutmarge = {p_value:.2f} ± {margin_of_error(p_value, n)}\")"
   ]
  },
  {
   "cell_type": "code",
   "execution_count": 8,
   "metadata": {},
   "outputs": [
    {
     "name": "stdout",
     "output_type": "stream",
     "text": [
      "Pearson tussen no-go fouten en sport uren: 0.16 ± 0.31, p-waarde: 0.35 ± 0.26\n",
      "Pearson tussen go fouten en sport uren: 0.26 ± 0.29, p-waarde: 0.14 ± 0.31\n"
     ]
    }
   ],
   "source": [
    "# Bereken de Pearson en p waarden van de no-go en go fouten en de foutmarge\n",
    "cor_no_go, p_no_go = stats.pearsonr(data['no_go_mistake_percentage'], data['sport_uur_week'])\n",
    "cor_go, p_go = stats.pearsonr(data['go_mistake_percentage'], data['sport_uur_week'])\n",
    "\n",
    "moe_no_go = margin_of_error(cor_no_go, n)\n",
    "moe_go = margin_of_error(cor_go, n)\n",
    "\n",
    "p_moe = margin_of_error(p_value, n)\n",
    "p_no_go_moe = margin_of_error(p_no_go, n)\n",
    "p_go_moe = margin_of_error(p_go, n)\n",
    "\n",
    "print(f\"Pearson tussen no-go fouten en sport uren: {cor_no_go:.2f} ± {moe_no_go}, p-waarde: {p_no_go:.2f} ± {margin_of_error(p_no_go, n)}\")\n",
    "print(f\"Pearson tussen go fouten en sport uren: {cor_go:.2f} ± {margin_of_error(cor_go, n)}, p-waarde: {p_go:.2f} ± {margin_of_error(p_go, n)}\")"
   ]
  },
  {
   "cell_type": "code",
   "execution_count": 9,
   "metadata": {},
   "outputs": [
    {
     "name": "stdout",
     "output_type": "stream",
     "text": [
      "(35, 11)\n"
     ]
    },
    {
     "data": {
      "text/html": [
       "<div>\n",
       "<style scoped>\n",
       "    .dataframe tbody tr th:only-of-type {\n",
       "        vertical-align: middle;\n",
       "    }\n",
       "\n",
       "    .dataframe tbody tr th {\n",
       "        vertical-align: top;\n",
       "    }\n",
       "\n",
       "    .dataframe thead th {\n",
       "        text-align: right;\n",
       "    }\n",
       "</style>\n",
       "<table border=\"1\" class=\"dataframe\">\n",
       "  <thead>\n",
       "    <tr style=\"text-align: right;\">\n",
       "      <th></th>\n",
       "      <th>Pearson</th>\n",
       "      <th>p-waarde</th>\n",
       "    </tr>\n",
       "  </thead>\n",
       "  <tbody>\n",
       "    <tr>\n",
       "      <th>Gecombineerde SART score</th>\n",
       "      <td>0.17 ± 0.31</td>\n",
       "      <td>0.33 ± 0.27</td>\n",
       "    </tr>\n",
       "    <tr>\n",
       "      <th>No-go fouten</th>\n",
       "      <td>0.16 ± 0.31</td>\n",
       "      <td>0.35 ± 0.26</td>\n",
       "    </tr>\n",
       "    <tr>\n",
       "      <th>Go fouten</th>\n",
       "      <td>0.26 ± 0.29</td>\n",
       "      <td>0.14 ± 0.31</td>\n",
       "    </tr>\n",
       "  </tbody>\n",
       "</table>\n",
       "</div>"
      ],
      "text/plain": [
       "                              Pearson     p-waarde\n",
       "Gecombineerde SART score  0.17 ± 0.31  0.33 ± 0.27\n",
       "No-go fouten              0.16 ± 0.31  0.35 ± 0.26\n",
       "Go fouten                 0.26 ± 0.29  0.14 ± 0.31"
      ]
     },
     "metadata": {},
     "output_type": "display_data"
    }
   ],
   "source": [
    "# Zet alle data in een dataframe\n",
    "correlation_data = pd.DataFrame({'Pearson': [f\"{correlation_coefficient:.2f} ± {moe}\", f\"{cor_no_go:.2f} ± {moe_no_go}\", f\"{cor_go:.2f} ± {moe_go}\"],\n",
    "                                 'p-waarde': [f\"{p_value:.2f} ± {p_moe}\", f\"{p_no_go:.2f} ± {p_no_go_moe}\", f\"{p_go:.2f} ± {p_go_moe}\"]},\n",
    "                                index=['Gecombineerde SART score', 'No-go fouten', 'Go fouten'])\n",
    "\n",
    "print(data.shape)\n",
    "# print('\\nDe 78 rijen waarbij de test door 58 participanten onjuist is afgelegd')\n",
    "display(correlation_data)"
   ]
  },
  {
   "cell_type": "markdown",
   "metadata": {},
   "source": [
    "### Maken van figuur\n",
    "In deze figuur moeten de resultaten van het onderzoek duidelijk naar voren komen"
   ]
  },
  {
   "cell_type": "code",
   "execution_count": 10,
   "metadata": {},
   "outputs": [
    {
     "name": "stdout",
     "output_type": "stream",
     "text": [
      "Pearson tussen no-go fouten en sport uren: 0.11 ± 0.33, p-waarde: 0.56 ± 0.2\n",
      "Pearson tussen go fouten en sport uren: -0.02 ± 0.35, p-waarde: 0.92 ± 0.04\n"
     ]
    },
    {
     "data": {
      "image/png": "[encoded data removed]",
      "text/plain": [
       "<Figure size 640x480 with 1 Axes>"
      ]
     },
     "metadata": {},
     "output_type": "display_data"
    }
   ],
   "source": [
    "# Allereerst moeten we de outliers uit de data verwijderen. Dit doen we met behulp van de IQR methode\n",
    "def remove_outliers_iqr(df):\n",
    "    Q1 = df.quantile(0.25)\n",
    "    Q3 = df.quantile(0.75)\n",
    "    IQR = Q3 - Q1\n",
    "    filtered_entries = ~((df < (Q1 - 1.5 * IQR)) | (df > (Q3 + 1.5 * IQR))).any(axis=1)\n",
    "    return df[filtered_entries]\n",
    "\n",
    "df_iqr_filtered = remove_outliers_iqr(data[['go_mistake_percentage', 'no_go_mistake_percentage', 'score', 'sport_uur_week']])\n",
    "# display(df_iqr_filtered)\n",
    "# display(data.head())\n",
    "\n",
    "n = df_iqr_filtered.shape[0]  # Aantal waarnemingen\n",
    "\n",
    "cor_no_go, p_no_go = stats.pearsonr(df_iqr_filtered['no_go_mistake_percentage'], df_iqr_filtered['sport_uur_week'])\n",
    "cor_go, p_go = stats.pearsonr(df_iqr_filtered['go_mistake_percentage'], df_iqr_filtered['sport_uur_week'])\n",
    "\n",
    "moe_no_go = margin_of_error(cor_no_go, n)\n",
    "moe_go = margin_of_error(cor_go, n)\n",
    "\n",
    "p_no_go_moe = margin_of_error(p_no_go, n)\n",
    "p_go_moe = margin_of_error(p_go, n)\n",
    "\n",
    "print(f\"Pearson tussen no-go fouten en sport uren: {cor_no_go:.2f} ± {moe_no_go}, p-waarde: {p_no_go:.2f} ± {margin_of_error(p_no_go, n)}\")\n",
    "print(f\"Pearson tussen go fouten en sport uren: {cor_go:.2f} ± {margin_of_error(cor_go, n)}, p-waarde: {p_go:.2f} ± {margin_of_error(p_go, n)}\")\n",
    "\n",
    "sns.scatterplot(x='sport_uur_week', y='score', data=df_iqr_filtered.sort_values('sport_uur_week'))\n",
    "plt.title('SART test fouten in relatie tot uren sport per week')\n",
    "plt.xlabel('Wekelijkse sporturen')\n",
    "plt.ylabel('Gecombineerde SART score (lager is beter)')\n",
    "plt.show()"
   ]
  },
  {
   "cell_type": "code",
   "execution_count": 11,
   "metadata": {},
   "outputs": [],
   "source": [
    "data.to_csv('data_cognitie_chat.csv', index = False)\n",
    "data.at[7, 'soort_sport'] = 'fitness, voetbal'\n",
    "data.at[15, 'soort_sport'] = 'zwemmen, voetbal'\n",
    "data.at[10, 'soort_sport'] = 'gym, cardio'\n",
    "data.at[16, 'soort_sport'] = 'lopen, hardlopen'\n",
    "\n",
    "for i in range(len(data)):\n",
    "    if pd.notnull(data.at[i, 'soort_sport']):\n",
    "        sport = str(data.at[i, 'soort_sport'])\n",
    "        if ',' in sport and ', ' not in sport:\n",
    "            data.at[i, 'soort_sport'] = sport.replace(',', ', ')\n"
   ]
  },
  {
   "cell_type": "code",
   "execution_count": 12,
   "metadata": {},
   "outputs": [
    {
     "name": "stdout",
     "output_type": "stream",
     "text": [
      "<bound method Series.unique of score           1.000000\n",
      "interceptive   -0.070583\n",
      "static         -0.051237\n",
      "strategic       0.070417\n",
      "no_sport        0.081128\n",
      "Name: score, dtype: float64>\n"
     ]
    },
    {
     "data": {
      "image/png": "[encoded data removed]",
      "text/plain": [
       "<Figure size 1000x600 with 1 Axes>"
      ]
     },
     "metadata": {},
     "output_type": "display_data"
    },
    {
     "data": {
      "image/png": "[encoded data removed]",
      "text/plain": [
       "<Figure size 1000x600 with 1 Axes>"
      ]
     },
     "metadata": {},
     "output_type": "display_data"
    }
   ],
   "source": [
    "interceptive_sports = [\"tennis\", \"fencing\", \"boxing\", \"table tennis\", \"free combat\", \"kickboksen\", \"karten\", \"boulderen\", \"squash\", \"mma\", \"roeien\"]\n",
    "static_sports = [\"jogging\", \"gewichtstraining\",\"swimming\", \"shooting\", \"lopen\", \"fitness\", \"wandelen\", \"mountainbiken\", \"hardlopen\", \"fietsen\", \"cardio\", \"gym\", \"pilates\", \"dans\", \"yoga\",\"sportschool\"]\n",
    "strategic_sports = [\"basketball\", \"soccer\", \"hockey\", \"rugby\", \"football\", \"basketbal\", 'voetbal', \"zaalvoetbal\"]\n",
    "\n",
    "# Function to classify sports into categories\n",
    "def classify_sport(sport):\n",
    "    categories = {'interceptive': 0, 'static': 0, 'strategic': 0}\n",
    "    for s in sport.split(\", \"):\n",
    "        s = s.lower()\n",
    "        if s in interceptive_sports:\n",
    "            categories['interceptive'] = 1\n",
    "        if s in static_sports:\n",
    "            categories['static'] = 1\n",
    "        if s in strategic_sports:\n",
    "            categories['strategic'] = 1\n",
    "    return pd.Series(categories)\n",
    "\n",
    "# Handle missing values in 'soort_sport' column\n",
    "data['soort_sport'] = data['soort_sport'].fillna(\"\")\n",
    "\n",
    "# Apply classification to each row in the 'soort_sport' column\n",
    "classification = data['soort_sport'].apply(classify_sport)\n",
    "data = pd.concat([data, classification], axis=1)\n",
    "\n",
    "# Calculate the median sport (most frequently done sport)\n",
    "sport_counts = data['soort_sport'].str.lower().str.split(\", \").explode().value_counts()\n",
    "median_sport = sport_counts.idxmax()\n",
    "\n",
    "\n",
    "data['soort_sport'] = data['soort_sport'].fillna(\"\")\n",
    "\n",
    "# Create a column for no sport participation\n",
    "data['no_sport'] = data['soort_sport'].apply(lambda x: 1 if x.lower() in ['', 'geen'] else 0)\n",
    "\n",
    "# One hot encoded columns already present (interceptive, static, strategic)\n",
    "# Calculate counts for each sport type\n",
    "sport_type_counts = data[['interceptive', 'static', 'strategic', 'no_sport']].sum()\n",
    "\n",
    "# Create a bar plot for sport type counts\n",
    "plt.figure(figsize=(10, 6))\n",
    "sns.barplot(x=sport_type_counts.index, y=sport_type_counts.values, palette='viridis')\n",
    "plt.title('Aantal van elk type sport in de data')\n",
    "plt.xlabel('Type sport')\n",
    "plt.ylabel('Aantal')\n",
    "plt.savefig('sport_type_counts.png')\n",
    "\n",
    "# Create a correlation matrix for score and different sport types\n",
    "correlation_matrix = data[['score', 'interceptive', 'static', 'strategic', 'no_sport']].corr()\n",
    "print(correlation_matrix['score'].unique)\n",
    "\n",
    "# Create a boxplot for sport hours per week\n",
    "plt.figure(figsize=(10, 6))\n",
    "sns.boxplot(x=data['sport_uur_week'])\n",
    "plt.title('Aantal uren dat de participanten sporten per week')\n",
    "plt.xlabel('Uren sport per week')\n",
    "plt.savefig('sport_uur_week_boxplot.png')"
   ]
  },
  {
   "cell_type": "code",
   "execution_count": 13,
   "metadata": {},
   "outputs": [
    {
     "data": {
      "text/html": [
       "<div>\n",
       "<style scoped>\n",
       "    .dataframe tbody tr th:only-of-type {\n",
       "        vertical-align: middle;\n",
       "    }\n",
       "\n",
       "    .dataframe tbody tr th {\n",
       "        vertical-align: top;\n",
       "    }\n",
       "\n",
       "    .dataframe thead th {\n",
       "        text-align: right;\n",
       "    }\n",
       "</style>\n",
       "<table border=\"1\" class=\"dataframe\">\n",
       "  <thead>\n",
       "    <tr style=\"text-align: right;\">\n",
       "      <th></th>\n",
       "      <th>geslacht</th>\n",
       "      <th>amount_go</th>\n",
       "      <th>go_mistakes</th>\n",
       "      <th>amount_no_go</th>\n",
       "      <th>no_go_mistakes</th>\n",
       "      <th>sport_uur_week</th>\n",
       "      <th>soort_sport</th>\n",
       "      <th>studie</th>\n",
       "      <th>go_mistake_percentage</th>\n",
       "      <th>no_go_mistake_percentage</th>\n",
       "      <th>score</th>\n",
       "      <th>interceptive</th>\n",
       "      <th>static</th>\n",
       "      <th>strategic</th>\n",
       "      <th>no_sport</th>\n",
       "    </tr>\n",
       "  </thead>\n",
       "  <tbody>\n",
       "    <tr>\n",
       "      <th>0</th>\n",
       "      <td>Man</td>\n",
       "      <td>200.0</td>\n",
       "      <td>6.0</td>\n",
       "      <td>25.0</td>\n",
       "      <td>19.0</td>\n",
       "      <td>6.0</td>\n",
       "      <td>Fitness, Kickboksen</td>\n",
       "      <td>informatiekunde</td>\n",
       "      <td>0.030</td>\n",
       "      <td>0.76</td>\n",
       "      <td>0.3950</td>\n",
       "      <td>1</td>\n",
       "      <td>1</td>\n",
       "      <td>0</td>\n",
       "      <td>0</td>\n",
       "    </tr>\n",
       "    <tr>\n",
       "      <th>1</th>\n",
       "      <td>Man</td>\n",
       "      <td>200.0</td>\n",
       "      <td>0.0</td>\n",
       "      <td>25.0</td>\n",
       "      <td>18.0</td>\n",
       "      <td>7.0</td>\n",
       "      <td>Sportschool</td>\n",
       "      <td>informatiekunde</td>\n",
       "      <td>0.000</td>\n",
       "      <td>0.72</td>\n",
       "      <td>0.3600</td>\n",
       "      <td>0</td>\n",
       "      <td>1</td>\n",
       "      <td>0</td>\n",
       "      <td>0</td>\n",
       "    </tr>\n",
       "    <tr>\n",
       "      <th>2</th>\n",
       "      <td>Man</td>\n",
       "      <td>200.0</td>\n",
       "      <td>0.0</td>\n",
       "      <td>25.0</td>\n",
       "      <td>7.0</td>\n",
       "      <td>1.0</td>\n",
       "      <td>Karten</td>\n",
       "      <td>informatiekunde</td>\n",
       "      <td>0.000</td>\n",
       "      <td>0.28</td>\n",
       "      <td>0.1400</td>\n",
       "      <td>1</td>\n",
       "      <td>0</td>\n",
       "      <td>0</td>\n",
       "      <td>0</td>\n",
       "    </tr>\n",
       "    <tr>\n",
       "      <th>3</th>\n",
       "      <td>Man</td>\n",
       "      <td>200.0</td>\n",
       "      <td>1.0</td>\n",
       "      <td>25.0</td>\n",
       "      <td>19.0</td>\n",
       "      <td>4.0</td>\n",
       "      <td>Fitness</td>\n",
       "      <td>informatiekunde</td>\n",
       "      <td>0.005</td>\n",
       "      <td>0.76</td>\n",
       "      <td>0.3825</td>\n",
       "      <td>0</td>\n",
       "      <td>1</td>\n",
       "      <td>0</td>\n",
       "      <td>0</td>\n",
       "    </tr>\n",
       "    <tr>\n",
       "      <th>4</th>\n",
       "      <td>Vrouw</td>\n",
       "      <td>200.0</td>\n",
       "      <td>4.0</td>\n",
       "      <td>25.0</td>\n",
       "      <td>12.0</td>\n",
       "      <td>2.0</td>\n",
       "      <td>Sportschool, fietsen, wandelen</td>\n",
       "      <td>informatiekunde</td>\n",
       "      <td>0.020</td>\n",
       "      <td>0.48</td>\n",
       "      <td>0.2500</td>\n",
       "      <td>0</td>\n",
       "      <td>1</td>\n",
       "      <td>0</td>\n",
       "      <td>0</td>\n",
       "    </tr>\n",
       "    <tr>\n",
       "      <th>5</th>\n",
       "      <td>Vrouw</td>\n",
       "      <td>200.0</td>\n",
       "      <td>1.0</td>\n",
       "      <td>25.0</td>\n",
       "      <td>7.0</td>\n",
       "      <td>6.0</td>\n",
       "      <td>Basketbal</td>\n",
       "      <td>informatiekunde</td>\n",
       "      <td>0.005</td>\n",
       "      <td>0.28</td>\n",
       "      <td>0.1425</td>\n",
       "      <td>0</td>\n",
       "      <td>0</td>\n",
       "      <td>1</td>\n",
       "      <td>0</td>\n",
       "    </tr>\n",
       "    <tr>\n",
       "      <th>6</th>\n",
       "      <td>Man</td>\n",
       "      <td>200.0</td>\n",
       "      <td>0.0</td>\n",
       "      <td>25.0</td>\n",
       "      <td>2.0</td>\n",
       "      <td>7.0</td>\n",
       "      <td>Fitness</td>\n",
       "      <td>informatiekunde</td>\n",
       "      <td>0.000</td>\n",
       "      <td>0.08</td>\n",
       "      <td>0.0400</td>\n",
       "      <td>0</td>\n",
       "      <td>1</td>\n",
       "      <td>0</td>\n",
       "      <td>0</td>\n",
       "    </tr>\n",
       "    <tr>\n",
       "      <th>7</th>\n",
       "      <td>Man</td>\n",
       "      <td>200.0</td>\n",
       "      <td>15.0</td>\n",
       "      <td>25.0</td>\n",
       "      <td>18.0</td>\n",
       "      <td>8.0</td>\n",
       "      <td>fitness, voetbal</td>\n",
       "      <td>informatiekunde</td>\n",
       "      <td>0.075</td>\n",
       "      <td>0.72</td>\n",
       "      <td>0.3975</td>\n",
       "      <td>0</td>\n",
       "      <td>1</td>\n",
       "      <td>1</td>\n",
       "      <td>0</td>\n",
       "    </tr>\n",
       "    <tr>\n",
       "      <th>8</th>\n",
       "      <td>Man</td>\n",
       "      <td>200.0</td>\n",
       "      <td>5.0</td>\n",
       "      <td>25.0</td>\n",
       "      <td>19.0</td>\n",
       "      <td>1.0</td>\n",
       "      <td>atletiek</td>\n",
       "      <td>informatiekunde</td>\n",
       "      <td>0.025</td>\n",
       "      <td>0.76</td>\n",
       "      <td>0.3925</td>\n",
       "      <td>0</td>\n",
       "      <td>0</td>\n",
       "      <td>0</td>\n",
       "      <td>0</td>\n",
       "    </tr>\n",
       "    <tr>\n",
       "      <th>9</th>\n",
       "      <td>Vrouw</td>\n",
       "      <td>200.0</td>\n",
       "      <td>3.0</td>\n",
       "      <td>25.0</td>\n",
       "      <td>18.0</td>\n",
       "      <td>1.0</td>\n",
       "      <td>pilates</td>\n",
       "      <td>informatiekunde</td>\n",
       "      <td>0.015</td>\n",
       "      <td>0.72</td>\n",
       "      <td>0.3675</td>\n",
       "      <td>0</td>\n",
       "      <td>1</td>\n",
       "      <td>0</td>\n",
       "      <td>0</td>\n",
       "    </tr>\n",
       "    <tr>\n",
       "      <th>10</th>\n",
       "      <td>Man</td>\n",
       "      <td>200.0</td>\n",
       "      <td>1.0</td>\n",
       "      <td>25.0</td>\n",
       "      <td>8.0</td>\n",
       "      <td>5.0</td>\n",
       "      <td>gym, cardio</td>\n",
       "      <td>informatiekunde</td>\n",
       "      <td>0.005</td>\n",
       "      <td>0.32</td>\n",
       "      <td>0.1625</td>\n",
       "      <td>0</td>\n",
       "      <td>1</td>\n",
       "      <td>0</td>\n",
       "      <td>0</td>\n",
       "    </tr>\n",
       "    <tr>\n",
       "      <th>11</th>\n",
       "      <td>Man</td>\n",
       "      <td>200.0</td>\n",
       "      <td>0.0</td>\n",
       "      <td>25.0</td>\n",
       "      <td>4.0</td>\n",
       "      <td>4.0</td>\n",
       "      <td>Fitness</td>\n",
       "      <td>informatiekunde</td>\n",
       "      <td>0.000</td>\n",
       "      <td>0.16</td>\n",
       "      <td>0.0800</td>\n",
       "      <td>0</td>\n",
       "      <td>1</td>\n",
       "      <td>0</td>\n",
       "      <td>0</td>\n",
       "    </tr>\n",
       "    <tr>\n",
       "      <th>12</th>\n",
       "      <td>Vrouw</td>\n",
       "      <td>200.0</td>\n",
       "      <td>2.0</td>\n",
       "      <td>25.0</td>\n",
       "      <td>13.0</td>\n",
       "      <td>2.0</td>\n",
       "      <td>Hardlopen</td>\n",
       "      <td>informatiekunde</td>\n",
       "      <td>0.010</td>\n",
       "      <td>0.52</td>\n",
       "      <td>0.2650</td>\n",
       "      <td>0</td>\n",
       "      <td>1</td>\n",
       "      <td>0</td>\n",
       "      <td>0</td>\n",
       "    </tr>\n",
       "    <tr>\n",
       "      <th>13</th>\n",
       "      <td>Vrouw</td>\n",
       "      <td>200.0</td>\n",
       "      <td>0.0</td>\n",
       "      <td>25.0</td>\n",
       "      <td>0.0</td>\n",
       "      <td>2.0</td>\n",
       "      <td>wandelen</td>\n",
       "      <td>informatiekunde</td>\n",
       "      <td>0.000</td>\n",
       "      <td>0.00</td>\n",
       "      <td>0.0000</td>\n",
       "      <td>0</td>\n",
       "      <td>1</td>\n",
       "      <td>0</td>\n",
       "      <td>0</td>\n",
       "    </tr>\n",
       "    <tr>\n",
       "      <th>14</th>\n",
       "      <td>Man</td>\n",
       "      <td>200.0</td>\n",
       "      <td>1.0</td>\n",
       "      <td>25.0</td>\n",
       "      <td>15.0</td>\n",
       "      <td>8.0</td>\n",
       "      <td>hockey, sportschool</td>\n",
       "      <td>informatiekunde</td>\n",
       "      <td>0.005</td>\n",
       "      <td>0.60</td>\n",
       "      <td>0.3025</td>\n",
       "      <td>0</td>\n",
       "      <td>1</td>\n",
       "      <td>1</td>\n",
       "      <td>0</td>\n",
       "    </tr>\n",
       "    <tr>\n",
       "      <th>15</th>\n",
       "      <td>Man</td>\n",
       "      <td>200.0</td>\n",
       "      <td>6.0</td>\n",
       "      <td>25.0</td>\n",
       "      <td>21.0</td>\n",
       "      <td>5.0</td>\n",
       "      <td>zwemmen, voetbal</td>\n",
       "      <td>informatiekunde</td>\n",
       "      <td>0.030</td>\n",
       "      <td>0.84</td>\n",
       "      <td>0.4350</td>\n",
       "      <td>0</td>\n",
       "      <td>0</td>\n",
       "      <td>1</td>\n",
       "      <td>0</td>\n",
       "    </tr>\n",
       "    <tr>\n",
       "      <th>16</th>\n",
       "      <td>Man</td>\n",
       "      <td>200.0</td>\n",
       "      <td>0.0</td>\n",
       "      <td>25.0</td>\n",
       "      <td>18.0</td>\n",
       "      <td>2.0</td>\n",
       "      <td>lopen, hardlopen</td>\n",
       "      <td>informatiekunde</td>\n",
       "      <td>0.000</td>\n",
       "      <td>0.72</td>\n",
       "      <td>0.3600</td>\n",
       "      <td>0</td>\n",
       "      <td>1</td>\n",
       "      <td>0</td>\n",
       "      <td>0</td>\n",
       "    </tr>\n",
       "    <tr>\n",
       "      <th>17</th>\n",
       "      <td>Man</td>\n",
       "      <td>200.0</td>\n",
       "      <td>1.0</td>\n",
       "      <td>25.0</td>\n",
       "      <td>15.0</td>\n",
       "      <td>1.0</td>\n",
       "      <td>Fietsen</td>\n",
       "      <td>informatiekunde</td>\n",
       "      <td>0.005</td>\n",
       "      <td>0.60</td>\n",
       "      <td>0.3025</td>\n",
       "      <td>0</td>\n",
       "      <td>1</td>\n",
       "      <td>0</td>\n",
       "      <td>0</td>\n",
       "    </tr>\n",
       "    <tr>\n",
       "      <th>18</th>\n",
       "      <td>Man</td>\n",
       "      <td>200.0</td>\n",
       "      <td>0.0</td>\n",
       "      <td>25.0</td>\n",
       "      <td>9.0</td>\n",
       "      <td>2.0</td>\n",
       "      <td>Voetbal</td>\n",
       "      <td>informatiekunde</td>\n",
       "      <td>0.000</td>\n",
       "      <td>0.36</td>\n",
       "      <td>0.1800</td>\n",
       "      <td>0</td>\n",
       "      <td>0</td>\n",
       "      <td>1</td>\n",
       "      <td>0</td>\n",
       "    </tr>\n",
       "    <tr>\n",
       "      <th>19</th>\n",
       "      <td>Man</td>\n",
       "      <td>200.0</td>\n",
       "      <td>1.0</td>\n",
       "      <td>25.0</td>\n",
       "      <td>8.0</td>\n",
       "      <td>0.0</td>\n",
       "      <td>Geen</td>\n",
       "      <td>informatiekunde</td>\n",
       "      <td>0.005</td>\n",
       "      <td>0.32</td>\n",
       "      <td>0.1625</td>\n",
       "      <td>0</td>\n",
       "      <td>0</td>\n",
       "      <td>0</td>\n",
       "      <td>1</td>\n",
       "    </tr>\n",
       "    <tr>\n",
       "      <th>20</th>\n",
       "      <td>Man</td>\n",
       "      <td>200.0</td>\n",
       "      <td>0.0</td>\n",
       "      <td>25.0</td>\n",
       "      <td>5.0</td>\n",
       "      <td>3.0</td>\n",
       "      <td>Voetbal, gym</td>\n",
       "      <td>Informatiekunde</td>\n",
       "      <td>0.000</td>\n",
       "      <td>0.20</td>\n",
       "      <td>0.1000</td>\n",
       "      <td>0</td>\n",
       "      <td>1</td>\n",
       "      <td>1</td>\n",
       "      <td>0</td>\n",
       "    </tr>\n",
       "    <tr>\n",
       "      <th>21</th>\n",
       "      <td>Man</td>\n",
       "      <td>200.0</td>\n",
       "      <td>0.0</td>\n",
       "      <td>25.0</td>\n",
       "      <td>7.0</td>\n",
       "      <td>3.0</td>\n",
       "      <td>fitness, dans, fietsen, wandelen</td>\n",
       "      <td>WO Bachelor</td>\n",
       "      <td>0.000</td>\n",
       "      <td>0.28</td>\n",
       "      <td>0.1400</td>\n",
       "      <td>0</td>\n",
       "      <td>1</td>\n",
       "      <td>0</td>\n",
       "      <td>0</td>\n",
       "    </tr>\n",
       "    <tr>\n",
       "      <th>22</th>\n",
       "      <td>Man</td>\n",
       "      <td>200.0</td>\n",
       "      <td>8.0</td>\n",
       "      <td>25.0</td>\n",
       "      <td>23.0</td>\n",
       "      <td>3.0</td>\n",
       "      <td>sportschool</td>\n",
       "      <td>gezondheidswetenschappen</td>\n",
       "      <td>0.040</td>\n",
       "      <td>0.92</td>\n",
       "      <td>0.4800</td>\n",
       "      <td>0</td>\n",
       "      <td>1</td>\n",
       "      <td>0</td>\n",
       "      <td>0</td>\n",
       "    </tr>\n",
       "    <tr>\n",
       "      <th>23</th>\n",
       "      <td>Man</td>\n",
       "      <td>200.0</td>\n",
       "      <td>2.0</td>\n",
       "      <td>25.0</td>\n",
       "      <td>10.0</td>\n",
       "      <td>5.0</td>\n",
       "      <td>fitness, mountainbiken, squash, basketbal, bou...</td>\n",
       "      <td>biologie bachelor</td>\n",
       "      <td>0.010</td>\n",
       "      <td>0.40</td>\n",
       "      <td>0.2050</td>\n",
       "      <td>1</td>\n",
       "      <td>1</td>\n",
       "      <td>1</td>\n",
       "      <td>0</td>\n",
       "    </tr>\n",
       "    <tr>\n",
       "      <th>24</th>\n",
       "      <td>Man</td>\n",
       "      <td>200.0</td>\n",
       "      <td>2.0</td>\n",
       "      <td>25.0</td>\n",
       "      <td>7.0</td>\n",
       "      <td>5.0</td>\n",
       "      <td>fitness, voetbal</td>\n",
       "      <td>Informatiekunde</td>\n",
       "      <td>0.010</td>\n",
       "      <td>0.28</td>\n",
       "      <td>0.1450</td>\n",
       "      <td>0</td>\n",
       "      <td>1</td>\n",
       "      <td>1</td>\n",
       "      <td>0</td>\n",
       "    </tr>\n",
       "    <tr>\n",
       "      <th>25</th>\n",
       "      <td>Man</td>\n",
       "      <td>200.0</td>\n",
       "      <td>1.0</td>\n",
       "      <td>25.0</td>\n",
       "      <td>4.0</td>\n",
       "      <td>2.0</td>\n",
       "      <td>hardlopen</td>\n",
       "      <td>Social Work</td>\n",
       "      <td>0.005</td>\n",
       "      <td>0.16</td>\n",
       "      <td>0.0825</td>\n",
       "      <td>0</td>\n",
       "      <td>1</td>\n",
       "      <td>0</td>\n",
       "      <td>0</td>\n",
       "    </tr>\n",
       "    <tr>\n",
       "      <th>26</th>\n",
       "      <td>Man</td>\n",
       "      <td>200.0</td>\n",
       "      <td>3.0</td>\n",
       "      <td>25.0</td>\n",
       "      <td>5.0</td>\n",
       "      <td>3.0</td>\n",
       "      <td>gym, zaalvoetbal</td>\n",
       "      <td>ICT</td>\n",
       "      <td>0.015</td>\n",
       "      <td>0.20</td>\n",
       "      <td>0.1075</td>\n",
       "      <td>0</td>\n",
       "      <td>1</td>\n",
       "      <td>1</td>\n",
       "      <td>0</td>\n",
       "    </tr>\n",
       "    <tr>\n",
       "      <th>27</th>\n",
       "      <td>Man</td>\n",
       "      <td>200.0</td>\n",
       "      <td>0.0</td>\n",
       "      <td>25.0</td>\n",
       "      <td>3.0</td>\n",
       "      <td>5.0</td>\n",
       "      <td>roeien, gymmen</td>\n",
       "      <td>bedrijfskunde</td>\n",
       "      <td>0.000</td>\n",
       "      <td>0.12</td>\n",
       "      <td>0.0600</td>\n",
       "      <td>1</td>\n",
       "      <td>0</td>\n",
       "      <td>0</td>\n",
       "      <td>0</td>\n",
       "    </tr>\n",
       "    <tr>\n",
       "      <th>28</th>\n",
       "      <td>Vrouw</td>\n",
       "      <td>200.0</td>\n",
       "      <td>5.0</td>\n",
       "      <td>25.0</td>\n",
       "      <td>6.0</td>\n",
       "      <td>1.0</td>\n",
       "      <td>cardio</td>\n",
       "      <td>Pedagogiek</td>\n",
       "      <td>0.025</td>\n",
       "      <td>0.24</td>\n",
       "      <td>0.1325</td>\n",
       "      <td>0</td>\n",
       "      <td>1</td>\n",
       "      <td>0</td>\n",
       "      <td>0</td>\n",
       "    </tr>\n",
       "    <tr>\n",
       "      <th>29</th>\n",
       "      <td>Vrouw</td>\n",
       "      <td>200.0</td>\n",
       "      <td>1.0</td>\n",
       "      <td>25.0</td>\n",
       "      <td>1.0</td>\n",
       "      <td>2.0</td>\n",
       "      <td>fitness, cardio, yoga</td>\n",
       "      <td>User Experience Design</td>\n",
       "      <td>0.005</td>\n",
       "      <td>0.04</td>\n",
       "      <td>0.0225</td>\n",
       "      <td>0</td>\n",
       "      <td>1</td>\n",
       "      <td>0</td>\n",
       "      <td>0</td>\n",
       "    </tr>\n",
       "    <tr>\n",
       "      <th>30</th>\n",
       "      <td>Man</td>\n",
       "      <td>200.0</td>\n",
       "      <td>0.0</td>\n",
       "      <td>25.0</td>\n",
       "      <td>2.0</td>\n",
       "      <td>1.0</td>\n",
       "      <td>gewichtstraining</td>\n",
       "      <td>ICT</td>\n",
       "      <td>0.000</td>\n",
       "      <td>0.08</td>\n",
       "      <td>0.0400</td>\n",
       "      <td>0</td>\n",
       "      <td>1</td>\n",
       "      <td>0</td>\n",
       "      <td>0</td>\n",
       "    </tr>\n",
       "    <tr>\n",
       "      <th>31</th>\n",
       "      <td>Vrouw</td>\n",
       "      <td>200.0</td>\n",
       "      <td>1.0</td>\n",
       "      <td>25.0</td>\n",
       "      <td>3.0</td>\n",
       "      <td>2.0</td>\n",
       "      <td>sportschool, fietsen</td>\n",
       "      <td>Psychologie</td>\n",
       "      <td>0.005</td>\n",
       "      <td>0.12</td>\n",
       "      <td>0.0625</td>\n",
       "      <td>0</td>\n",
       "      <td>1</td>\n",
       "      <td>0</td>\n",
       "      <td>0</td>\n",
       "    </tr>\n",
       "    <tr>\n",
       "      <th>32</th>\n",
       "      <td>Man</td>\n",
       "      <td>200.0</td>\n",
       "      <td>0.0</td>\n",
       "      <td>25.0</td>\n",
       "      <td>6.0</td>\n",
       "      <td>3.0</td>\n",
       "      <td>mma</td>\n",
       "      <td>informatiekunde</td>\n",
       "      <td>0.000</td>\n",
       "      <td>0.24</td>\n",
       "      <td>0.1200</td>\n",
       "      <td>1</td>\n",
       "      <td>0</td>\n",
       "      <td>0</td>\n",
       "      <td>0</td>\n",
       "    </tr>\n",
       "    <tr>\n",
       "      <th>33</th>\n",
       "      <td>Vrouw</td>\n",
       "      <td>200.0</td>\n",
       "      <td>3.0</td>\n",
       "      <td>25.0</td>\n",
       "      <td>5.0</td>\n",
       "      <td>3.0</td>\n",
       "      <td>lopen</td>\n",
       "      <td>pedagogiek</td>\n",
       "      <td>0.015</td>\n",
       "      <td>0.20</td>\n",
       "      <td>0.1075</td>\n",
       "      <td>0</td>\n",
       "      <td>1</td>\n",
       "      <td>0</td>\n",
       "      <td>0</td>\n",
       "    </tr>\n",
       "    <tr>\n",
       "      <th>34</th>\n",
       "      <td>Man</td>\n",
       "      <td>200.0</td>\n",
       "      <td>1.0</td>\n",
       "      <td>25.0</td>\n",
       "      <td>17.0</td>\n",
       "      <td>1.0</td>\n",
       "      <td></td>\n",
       "      <td>Economics and Business Economics</td>\n",
       "      <td>0.005</td>\n",
       "      <td>0.68</td>\n",
       "      <td>0.3425</td>\n",
       "      <td>0</td>\n",
       "      <td>0</td>\n",
       "      <td>0</td>\n",
       "      <td>1</td>\n",
       "    </tr>\n",
       "  </tbody>\n",
       "</table>\n",
       "</div>"
      ],
      "text/plain": [
       "   geslacht  amount_go  go_mistakes  amount_no_go  no_go_mistakes  \\\n",
       "0       Man      200.0          6.0          25.0            19.0   \n",
       "1       Man      200.0          0.0          25.0            18.0   \n",
       "2       Man      200.0          0.0          25.0             7.0   \n",
       "3       Man      200.0          1.0          25.0            19.0   \n",
       "4     Vrouw      200.0          4.0          25.0            12.0   \n",
       "5     Vrouw      200.0          1.0          25.0             7.0   \n",
       "6       Man      200.0          0.0          25.0             2.0   \n",
       "7       Man      200.0         15.0          25.0            18.0   \n",
       "8       Man      200.0          5.0          25.0            19.0   \n",
       "9     Vrouw      200.0          3.0          25.0            18.0   \n",
       "10      Man      200.0          1.0          25.0             8.0   \n",
       "11      Man      200.0          0.0          25.0             4.0   \n",
       "12    Vrouw      200.0          2.0          25.0            13.0   \n",
       "13    Vrouw      200.0          0.0          25.0             0.0   \n",
       "14      Man      200.0          1.0          25.0            15.0   \n",
       "15      Man      200.0          6.0          25.0            21.0   \n",
       "16      Man      200.0          0.0          25.0            18.0   \n",
       "17      Man      200.0          1.0          25.0            15.0   \n",
       "18      Man      200.0          0.0          25.0             9.0   \n",
       "19      Man      200.0          1.0          25.0             8.0   \n",
       "20      Man      200.0          0.0          25.0             5.0   \n",
       "21      Man      200.0          0.0          25.0             7.0   \n",
       "22      Man      200.0          8.0          25.0            23.0   \n",
       "23      Man      200.0          2.0          25.0            10.0   \n",
       "24      Man      200.0          2.0          25.0             7.0   \n",
       "25      Man      200.0          1.0          25.0             4.0   \n",
       "26      Man      200.0          3.0          25.0             5.0   \n",
       "27      Man      200.0          0.0          25.0             3.0   \n",
       "28    Vrouw      200.0          5.0          25.0             6.0   \n",
       "29    Vrouw      200.0          1.0          25.0             1.0   \n",
       "30      Man      200.0          0.0          25.0             2.0   \n",
       "31    Vrouw      200.0          1.0          25.0             3.0   \n",
       "32      Man      200.0          0.0          25.0             6.0   \n",
       "33    Vrouw      200.0          3.0          25.0             5.0   \n",
       "34      Man      200.0          1.0          25.0            17.0   \n",
       "\n",
       "    sport_uur_week                                        soort_sport  \\\n",
       "0              6.0                                Fitness, Kickboksen   \n",
       "1              7.0                                        Sportschool   \n",
       "2              1.0                                             Karten   \n",
       "3              4.0                                            Fitness   \n",
       "4              2.0                     Sportschool, fietsen, wandelen   \n",
       "5              6.0                                          Basketbal   \n",
       "6              7.0                                            Fitness   \n",
       "7              8.0                                   fitness, voetbal   \n",
       "8              1.0                                           atletiek   \n",
       "9              1.0                                            pilates   \n",
       "10             5.0                                        gym, cardio   \n",
       "11             4.0                                            Fitness   \n",
       "12             2.0                                          Hardlopen   \n",
       "13             2.0                                           wandelen   \n",
       "14             8.0                                hockey, sportschool   \n",
       "15             5.0                                   zwemmen, voetbal   \n",
       "16             2.0                                   lopen, hardlopen   \n",
       "17             1.0                                            Fietsen   \n",
       "18             2.0                                            Voetbal   \n",
       "19             0.0                                               Geen   \n",
       "20             3.0                                       Voetbal, gym   \n",
       "21             3.0                   fitness, dans, fietsen, wandelen   \n",
       "22             3.0                                        sportschool   \n",
       "23             5.0  fitness, mountainbiken, squash, basketbal, bou...   \n",
       "24             5.0                                   fitness, voetbal   \n",
       "25             2.0                                          hardlopen   \n",
       "26             3.0                                   gym, zaalvoetbal   \n",
       "27             5.0                                     roeien, gymmen   \n",
       "28             1.0                                             cardio   \n",
       "29             2.0                              fitness, cardio, yoga   \n",
       "30             1.0                                   gewichtstraining   \n",
       "31             2.0                               sportschool, fietsen   \n",
       "32             3.0                                                mma   \n",
       "33             3.0                                              lopen   \n",
       "34             1.0                                                      \n",
       "\n",
       "                              studie  go_mistake_percentage  \\\n",
       "0                    informatiekunde                  0.030   \n",
       "1                    informatiekunde                  0.000   \n",
       "2                    informatiekunde                  0.000   \n",
       "3                    informatiekunde                  0.005   \n",
       "4                    informatiekunde                  0.020   \n",
       "5                    informatiekunde                  0.005   \n",
       "6                    informatiekunde                  0.000   \n",
       "7                    informatiekunde                  0.075   \n",
       "8                    informatiekunde                  0.025   \n",
       "9                    informatiekunde                  0.015   \n",
       "10                   informatiekunde                  0.005   \n",
       "11                   informatiekunde                  0.000   \n",
       "12                   informatiekunde                  0.010   \n",
       "13                   informatiekunde                  0.000   \n",
       "14                   informatiekunde                  0.005   \n",
       "15                   informatiekunde                  0.030   \n",
       "16                   informatiekunde                  0.000   \n",
       "17                   informatiekunde                  0.005   \n",
       "18                   informatiekunde                  0.000   \n",
       "19                   informatiekunde                  0.005   \n",
       "20                   Informatiekunde                  0.000   \n",
       "21                       WO Bachelor                  0.000   \n",
       "22          gezondheidswetenschappen                  0.040   \n",
       "23                 biologie bachelor                  0.010   \n",
       "24                   Informatiekunde                  0.010   \n",
       "25                       Social Work                  0.005   \n",
       "26                               ICT                  0.015   \n",
       "27                     bedrijfskunde                  0.000   \n",
       "28                        Pedagogiek                  0.025   \n",
       "29            User Experience Design                  0.005   \n",
       "30                               ICT                  0.000   \n",
       "31                       Psychologie                  0.005   \n",
       "32                   informatiekunde                  0.000   \n",
       "33                        pedagogiek                  0.015   \n",
       "34  Economics and Business Economics                  0.005   \n",
       "\n",
       "    no_go_mistake_percentage   score  interceptive  static  strategic  \\\n",
       "0                       0.76  0.3950             1       1          0   \n",
       "1                       0.72  0.3600             0       1          0   \n",
       "2                       0.28  0.1400             1       0          0   \n",
       "3                       0.76  0.3825             0       1          0   \n",
       "4                       0.48  0.2500             0       1          0   \n",
       "5                       0.28  0.1425             0       0          1   \n",
       "6                       0.08  0.0400             0       1          0   \n",
       "7                       0.72  0.3975             0       1          1   \n",
       "8                       0.76  0.3925             0       0          0   \n",
       "9                       0.72  0.3675             0       1          0   \n",
       "10                      0.32  0.1625             0       1          0   \n",
       "11                      0.16  0.0800             0       1          0   \n",
       "12                      0.52  0.2650             0       1          0   \n",
       "13                      0.00  0.0000             0       1          0   \n",
       "14                      0.60  0.3025             0       1          1   \n",
       "15                      0.84  0.4350             0       0          1   \n",
       "16                      0.72  0.3600             0       1          0   \n",
       "17                      0.60  0.3025             0       1          0   \n",
       "18                      0.36  0.1800             0       0          1   \n",
       "19                      0.32  0.1625             0       0          0   \n",
       "20                      0.20  0.1000             0       1          1   \n",
       "21                      0.28  0.1400             0       1          0   \n",
       "22                      0.92  0.4800             0       1          0   \n",
       "23                      0.40  0.2050             1       1          1   \n",
       "24                      0.28  0.1450             0       1          1   \n",
       "25                      0.16  0.0825             0       1          0   \n",
       "26                      0.20  0.1075             0       1          1   \n",
       "27                      0.12  0.0600             1       0          0   \n",
       "28                      0.24  0.1325             0       1          0   \n",
       "29                      0.04  0.0225             0       1          0   \n",
       "30                      0.08  0.0400             0       1          0   \n",
       "31                      0.12  0.0625             0       1          0   \n",
       "32                      0.24  0.1200             1       0          0   \n",
       "33                      0.20  0.1075             0       1          0   \n",
       "34                      0.68  0.3425             0       0          0   \n",
       "\n",
       "    no_sport  \n",
       "0          0  \n",
       "1          0  \n",
       "2          0  \n",
       "3          0  \n",
       "4          0  \n",
       "5          0  \n",
       "6          0  \n",
       "7          0  \n",
       "8          0  \n",
       "9          0  \n",
       "10         0  \n",
       "11         0  \n",
       "12         0  \n",
       "13         0  \n",
       "14         0  \n",
       "15         0  \n",
       "16         0  \n",
       "17         0  \n",
       "18         0  \n",
       "19         1  \n",
       "20         0  \n",
       "21         0  \n",
       "22         0  \n",
       "23         0  \n",
       "24         0  \n",
       "25         0  \n",
       "26         0  \n",
       "27         0  \n",
       "28         0  \n",
       "29         0  \n",
       "30         0  \n",
       "31         0  \n",
       "32         0  \n",
       "33         0  \n",
       "34         1  "
      ]
     },
     "execution_count": 13,
     "metadata": {},
     "output_type": "execute_result"
    }
   ],
   "source": [
    "data"
   ]
  },
  {
   "cell_type": "code",
   "execution_count": 14,
   "metadata": {},
   "outputs": [
    {
     "data": {
      "text/plain": [
       "array(['informatiekunde', 'Informatiekunde', 'WO Bachelor',\n",
       "       'gezondheidswetenschappen', 'biologie bachelor', 'Social Work',\n",
       "       'ICT', 'bedrijfskunde', 'Pedagogiek', 'User Experience Design',\n",
       "       'Psychologie', 'pedagogiek', 'Economics and Business Economics'],\n",
       "      dtype=object)"
      ]
     },
     "execution_count": 14,
     "metadata": {},
     "output_type": "execute_result"
    }
   ],
   "source": [
    "data.studie.unique()"
   ]
  },
  {
   "cell_type": "code",
   "execution_count": 15,
   "metadata": {},
   "outputs": [
    {
     "data": {
      "image/png": "[encoded data removed]",
      "text/plain": [
       "<Figure size 1000x600 with 1 Axes>"
      ]
     },
     "metadata": {},
     "output_type": "display_data"
    },
    {
     "data": {
      "image/png": "[encoded data removed]",
      "text/plain": [
       "<Figure size 1200x800 with 1 Axes>"
      ]
     },
     "metadata": {},
     "output_type": "display_data"
    }
   ],
   "source": [
    "study_categories = {\n",
    "    'Informatiekunde & ICT': ['informatiekunde', 'Informatiekunde', 'ICT'],\n",
    "    'Health & Pedagogy': ['gezondheidswetenschappen', 'biologie bachelor', 'Pedagogiek', 'pedagogiek', 'Psychologie'],\n",
    "    'Social Work': ['Social Work'],\n",
    "    'Business': ['bedrijfskunde', 'Economics and Business Economics'],\n",
    "    'Design': ['User Experience Design'],\n",
    "    'Not Specified': ['WO Bachelor']\n",
    "}\n",
    "\n",
    "# Function to categorize studies\n",
    "def categorize_study(study):\n",
    "    for category, studies in study_categories.items():\n",
    "        if any(s.lower() in study.lower() for s in studies):\n",
    "            return category\n",
    "    return 'Other'\n",
    "\n",
    "# Apply categorization to the 'studie' column\n",
    "data['study_category'] = data['studie'].apply(categorize_study)\n",
    "\n",
    "# Combine Informatiekunde & ICT with the rest\n",
    "data['is_informatiekunde_ict'] = data['study_category'].apply(lambda x: 'Informatiekunde & ICT' if x == 'Informatiekunde & ICT' else 'Other')\n",
    "\n",
    "# Boxplot for score comparison\n",
    "plt.figure(figsize=(10, 6))\n",
    "sns.boxplot(x='is_informatiekunde_ict', y='score', data=data, palette='viridis')\n",
    "plt.title('Score Comparison between Informatiekunde & ICT and Other Studies')\n",
    "plt.xlabel('Study')\n",
    "plt.ylabel('Score')\n",
    "plt.show()\n",
    "\n",
    "# Bar plot for study categories\n",
    "plt.figure(figsize=(12, 8))\n",
    "sns.countplot(x='study_category', data=data, palette='viridis', order=data['study_category'].value_counts().index)\n",
    "plt.title('Aantal studenten in de verschillende studie categorieën')\n",
    "plt.xlabel('Studie categorie')\n",
    "plt.ylabel('Aantal studenten')\n",
    "plt.savefig('study_category_countplot.png')"
   ]
  },
  {
   "cell_type": "code",
   "execution_count": 16,
   "metadata": {},
   "outputs": [
    {
     "data": {
      "application/vnd.plotly.v1+json": {
       "config": {
        "plotlyServerURL": "https://plot.ly"
       },
       "data": [
        {
         "hole": 0.8,
         "labels": [
          "Man",
          "Vrouw"
         ],
         "marker": {
          "colors": [
           "#4a90e2",
           "#ff6f61"
          ]
         },
         "textinfo": "label+percent",
         "textposition": "outside",
         "type": "pie",
         "values": [
          26,
          9
         ]
        }
       ],
       "layout": {
        "annotations": [
         {
          "font": {
           "size": 20
          },
          "showarrow": false,
          "text": "N = 35",
          "x": 0.5,
          "y": 0.5
         }
        ],
        "height": 600,
        "showlegend": false,
        "template": {
         "data": {
          "bar": [
           {
            "error_x": {
             "color": "#2a3f5f"
            },
            "error_y": {
             "color": "#2a3f5f"
            },
            "marker": {
             "line": {
              "color": "#E5ECF6",
              "width": 0.5
             },
             "pattern": {
              "fillmode": "overlay",
              "size": 10,
              "solidity": 0.2
             }
            },
            "type": "bar"
           }
          ],
          "barpolar": [
           {
            "marker": {
             "line": {
              "color": "#E5ECF6",
              "width": 0.5
             },
             "pattern": {
              "fillmode": "overlay",
              "size": 10,
              "solidity": 0.2
             }
            },
            "type": "barpolar"
           }
          ],
          "carpet": [
           {
            "aaxis": {
             "endlinecolor": "#2a3f5f",
             "gridcolor": "white",
             "linecolor": "white",
             "minorgridcolor": "white",
             "startlinecolor": "#2a3f5f"
            },
            "baxis": {
             "endlinecolor": "#2a3f5f",
             "gridcolor": "white",
             "linecolor": "white",
             "minorgridcolor": "white",
             "startlinecolor": "#2a3f5f"
            },
            "type": "carpet"
           }
          ],
          "choropleth": [
           {
            "colorbar": {
             "outlinewidth": 0,
             "ticks": ""
            },
            "type": "choropleth"
           }
          ],
          "contour": [
           {
            "colorbar": {
             "outlinewidth": 0,
             "ticks": ""
            },
            "colorscale": [
             [
              0,
              "#0d0887"
             ],
             [
              0.1111111111111111,
              "#46039f"
             ],
             [
              0.2222222222222222,
              "#7201a8"
             ],
             [
              0.3333333333333333,
              "#9c179e"
             ],
             [
              0.4444444444444444,
              "#bd3786"
             ],
             [
              0.5555555555555556,
              "#d8576b"
             ],
             [
              0.6666666666666666,
              "#ed7953"
             ],
             [
              0.7777777777777778,
              "#fb9f3a"
             ],
             [
              0.8888888888888888,
              "#fdca26"
             ],
             [
              1,
              "#f0f921"
             ]
            ],
            "type": "contour"
           }
          ],
          "contourcarpet": [
           {
            "colorbar": {
             "outlinewidth": 0,
             "ticks": ""
            },
            "type": "contourcarpet"
           }
          ],
          "heatmap": [
           {
            "colorbar": {
             "outlinewidth": 0,
             "ticks": ""
            },
            "colorscale": [
             [
              0,
              "#0d0887"
             ],
             [
              0.1111111111111111,
              "#46039f"
             ],
             [
              0.2222222222222222,
              "#7201a8"
             ],
             [
              0.3333333333333333,
              "#9c179e"
             ],
             [
              0.4444444444444444,
              "#bd3786"
             ],
             [
              0.5555555555555556,
              "#d8576b"
             ],
             [
              0.6666666666666666,
              "#ed7953"
             ],
             [
              0.7777777777777778,
              "#fb9f3a"
             ],
             [
              0.8888888888888888,
              "#fdca26"
             ],
             [
              1,
              "#f0f921"
             ]
            ],
            "type": "heatmap"
           }
          ],
          "heatmapgl": [
           {
            "colorbar": {
             "outlinewidth": 0,
             "ticks": ""
            },
            "colorscale": [
             [
              0,
              "#0d0887"
             ],
             [
              0.1111111111111111,
              "#46039f"
             ],
             [
              0.2222222222222222,
              "#7201a8"
             ],
             [
              0.3333333333333333,
              "#9c179e"
             ],
             [
              0.4444444444444444,
              "#bd3786"
             ],
             [
              0.5555555555555556,
              "#d8576b"
             ],
             [
              0.6666666666666666,
              "#ed7953"
             ],
             [
              0.7777777777777778,
              "#fb9f3a"
             ],
             [
              0.8888888888888888,
              "#fdca26"
             ],
             [
              1,
              "#f0f921"
             ]
            ],
            "type": "heatmapgl"
           }
          ],
          "histogram": [
           {
            "marker": {
             "pattern": {
              "fillmode": "overlay",
              "size": 10,
              "solidity": 0.2
             }
            },
            "type": "histogram"
           }
          ],
          "histogram2d": [
           {
            "colorbar": {
             "outlinewidth": 0,
             "ticks": ""
            },
            "colorscale": [
             [
              0,
              "#0d0887"
             ],
             [
              0.1111111111111111,
              "#46039f"
             ],
             [
              0.2222222222222222,
              "#7201a8"
             ],
             [
              0.3333333333333333,
              "#9c179e"
             ],
             [
              0.4444444444444444,
              "#bd3786"
             ],
             [
              0.5555555555555556,
              "#d8576b"
             ],
             [
              0.6666666666666666,
              "#ed7953"
             ],
             [
              0.7777777777777778,
              "#fb9f3a"
             ],
             [
              0.8888888888888888,
              "#fdca26"
             ],
             [
              1,
              "#f0f921"
             ]
            ],
            "type": "histogram2d"
           }
          ],
          "histogram2dcontour": [
           {
            "colorbar": {
             "outlinewidth": 0,
             "ticks": ""
            },
            "colorscale": [
             [
              0,
              "#0d0887"
             ],
             [
              0.1111111111111111,
              "#46039f"
             ],
             [
              0.2222222222222222,
              "#7201a8"
             ],
             [
              0.3333333333333333,
              "#9c179e"
             ],
             [
              0.4444444444444444,
              "#bd3786"
             ],
             [
              0.5555555555555556,
              "#d8576b"
             ],
             [
              0.6666666666666666,
              "#ed7953"
             ],
             [
              0.7777777777777778,
              "#fb9f3a"
             ],
             [
              0.8888888888888888,
              "#fdca26"
             ],
             [
              1,
              "#f0f921"
             ]
            ],
            "type": "histogram2dcontour"
           }
          ],
          "mesh3d": [
           {
            "colorbar": {
             "outlinewidth": 0,
             "ticks": ""
            },
            "type": "mesh3d"
           }
          ],
          "parcoords": [
           {
            "line": {
             "colorbar": {
              "outlinewidth": 0,
              "ticks": ""
             }
            },
            "type": "parcoords"
           }
          ],
          "pie": [
           {
            "automargin": true,
            "type": "pie"
           }
          ],
          "scatter": [
           {
            "fillpattern": {
             "fillmode": "overlay",
             "size": 10,
             "solidity": 0.2
            },
            "type": "scatter"
           }
          ],
          "scatter3d": [
           {
            "line": {
             "colorbar": {
              "outlinewidth": 0,
              "ticks": ""
             }
            },
            "marker": {
             "colorbar": {
              "outlinewidth": 0,
              "ticks": ""
             }
            },
            "type": "scatter3d"
           }
          ],
          "scattercarpet": [
           {
            "marker": {
             "colorbar": {
              "outlinewidth": 0,
              "ticks": ""
             }
            },
            "type": "scattercarpet"
           }
          ],
          "scattergeo": [
           {
            "marker": {
             "colorbar": {
              "outlinewidth": 0,
              "ticks": ""
             }
            },
            "type": "scattergeo"
           }
          ],
          "scattergl": [
           {
            "marker": {
             "colorbar": {
              "outlinewidth": 0,
              "ticks": ""
             }
            },
            "type": "scattergl"
           }
          ],
          "scattermapbox": [
           {
            "marker": {
             "colorbar": {
              "outlinewidth": 0,
              "ticks": ""
             }
            },
            "type": "scattermapbox"
           }
          ],
          "scatterpolar": [
           {
            "marker": {
             "colorbar": {
              "outlinewidth": 0,
              "ticks": ""
             }
            },
            "type": "scatterpolar"
           }
          ],
          "scatterpolargl": [
           {
            "marker": {
             "colorbar": {
              "outlinewidth": 0,
              "ticks": ""
             }
            },
            "type": "scatterpolargl"
           }
          ],
          "scatterternary": [
           {
            "marker": {
             "colorbar": {
              "outlinewidth": 0,
              "ticks": ""
             }
            },
            "type": "scatterternary"
           }
          ],
          "surface": [
           {
            "colorbar": {
             "outlinewidth": 0,
             "ticks": ""
            },
            "colorscale": [
             [
              0,
              "#0d0887"
             ],
             [
              0.1111111111111111,
              "#46039f"
             ],
             [
              0.2222222222222222,
              "#7201a8"
             ],
             [
              0.3333333333333333,
              "#9c179e"
             ],
             [
              0.4444444444444444,
              "#bd3786"
             ],
             [
              0.5555555555555556,
              "#d8576b"
             ],
             [
              0.6666666666666666,
              "#ed7953"
             ],
             [
              0.7777777777777778,
              "#fb9f3a"
             ],
             [
              0.8888888888888888,
              "#fdca26"
             ],
             [
              1,
              "#f0f921"
             ]
            ],
            "type": "surface"
           }
          ],
          "table": [
           {
            "cells": {
             "fill": {
              "color": "#EBF0F8"
             },
             "line": {
              "color": "white"
             }
            },
            "header": {
             "fill": {
              "color": "#C8D4E3"
             },
             "line": {
              "color": "white"
             }
            },
            "type": "table"
           }
          ]
         },
         "layout": {
          "annotationdefaults": {
           "arrowcolor": "#2a3f5f",
           "arrowhead": 0,
           "arrowwidth": 1
          },
          "autotypenumbers": "strict",
          "coloraxis": {
           "colorbar": {
            "outlinewidth": 0,
            "ticks": ""
           }
          },
          "colorscale": {
           "diverging": [
            [
             0,
             "#8e0152"
            ],
            [
             0.1,
             "#c51b7d"
            ],
            [
             0.2,
             "#de77ae"
            ],
            [
             0.3,
             "#f1b6da"
            ],
            [
             0.4,
             "#fde0ef"
            ],
            [
             0.5,
             "#f7f7f7"
            ],
            [
             0.6,
             "#e6f5d0"
            ],
            [
             0.7,
             "#b8e186"
            ],
            [
             0.8,
             "#7fbc41"
            ],
            [
             0.9,
             "#4d9221"
            ],
            [
             1,
             "#276419"
            ]
           ],
           "sequential": [
            [
             0,
             "#0d0887"
            ],
            [
             0.1111111111111111,
             "#46039f"
            ],
            [
             0.2222222222222222,
             "#7201a8"
            ],
            [
             0.3333333333333333,
             "#9c179e"
            ],
            [
             0.4444444444444444,
             "#bd3786"
            ],
            [
             0.5555555555555556,
             "#d8576b"
            ],
            [
             0.6666666666666666,
             "#ed7953"
            ],
            [
             0.7777777777777778,
             "#fb9f3a"
            ],
            [
             0.8888888888888888,
             "#fdca26"
            ],
            [
             1,
             "#f0f921"
            ]
           ],
           "sequentialminus": [
            [
             0,
             "#0d0887"
            ],
            [
             0.1111111111111111,
             "#46039f"
            ],
            [
             0.2222222222222222,
             "#7201a8"
            ],
            [
             0.3333333333333333,
             "#9c179e"
            ],
            [
             0.4444444444444444,
             "#bd3786"
            ],
            [
             0.5555555555555556,
             "#d8576b"
            ],
            [
             0.6666666666666666,
             "#ed7953"
            ],
            [
             0.7777777777777778,
             "#fb9f3a"
            ],
            [
             0.8888888888888888,
             "#fdca26"
            ],
            [
             1,
             "#f0f921"
            ]
           ]
          },
          "colorway": [
           "#636efa",
           "#EF553B",
           "#00cc96",
           "#ab63fa",
           "#FFA15A",
           "#19d3f3",
           "#FF6692",
           "#B6E880",
           "#FF97FF",
           "#FECB52"
          ],
          "font": {
           "color": "#2a3f5f"
          },
          "geo": {
           "bgcolor": "white",
           "lakecolor": "white",
           "landcolor": "#E5ECF6",
           "showlakes": true,
           "showland": true,
           "subunitcolor": "white"
          },
          "hoverlabel": {
           "align": "left"
          },
          "hovermode": "closest",
          "mapbox": {
           "style": "light"
          },
          "paper_bgcolor": "white",
          "plot_bgcolor": "#E5ECF6",
          "polar": {
           "angularaxis": {
            "gridcolor": "white",
            "linecolor": "white",
            "ticks": ""
           },
           "bgcolor": "#E5ECF6",
           "radialaxis": {
            "gridcolor": "white",
            "linecolor": "white",
            "ticks": ""
           }
          },
          "scene": {
           "xaxis": {
            "backgroundcolor": "#E5ECF6",
            "gridcolor": "white",
            "gridwidth": 2,
            "linecolor": "white",
            "showbackground": true,
            "ticks": "",
            "zerolinecolor": "white"
           },
           "yaxis": {
            "backgroundcolor": "#E5ECF6",
            "gridcolor": "white",
            "gridwidth": 2,
            "linecolor": "white",
            "showbackground": true,
            "ticks": "",
            "zerolinecolor": "white"
           },
           "zaxis": {
            "backgroundcolor": "#E5ECF6",
            "gridcolor": "white",
            "gridwidth": 2,
            "linecolor": "white",
            "showbackground": true,
            "ticks": "",
            "zerolinecolor": "white"
           }
          },
          "shapedefaults": {
           "line": {
            "color": "#2a3f5f"
           }
          },
          "ternary": {
           "aaxis": {
            "gridcolor": "white",
            "linecolor": "white",
            "ticks": ""
           },
           "baxis": {
            "gridcolor": "white",
            "linecolor": "white",
            "ticks": ""
           },
           "bgcolor": "#E5ECF6",
           "caxis": {
            "gridcolor": "white",
            "linecolor": "white",
            "ticks": ""
           }
          },
          "title": {
           "x": 0.05
          },
          "xaxis": {
           "automargin": true,
           "gridcolor": "white",
           "linecolor": "white",
           "ticks": "",
           "title": {
            "standoff": 15
           },
           "zerolinecolor": "white",
           "zerolinewidth": 2
          },
          "yaxis": {
           "automargin": true,
           "gridcolor": "white",
           "linecolor": "white",
           "ticks": "",
           "title": {
            "standoff": 15
           },
           "zerolinecolor": "white",
           "zerolinewidth": 2
          }
         }
        }
       }
      }
     },
     "metadata": {},
     "output_type": "display_data"
    }
   ],
   "source": [
    "import plotly.graph_objects as go\n",
    "\n",
    "\n",
    "# Aantal mannen en vrouwen tellen\n",
    "aantal_mannen = len(data[data['geslacht'] == 'Man'])\n",
    "aantal_vrouwen = len(data[data['geslacht'] == 'Vrouw'])\n",
    "\n",
    "# Data voor de chart\n",
    "labels = ['Man', 'Vrouw']\n",
    "values = [aantal_mannen, aantal_vrouwen]\n",
    "\n",
    "# Kleuren voor de sectoren van het cirkeldiagram\n",
    "colors = ['#4a90e2', '#ff6f61']\n",
    "\n",
    "# Donut chart maken met Plotly\n",
    "pie_trace = go.Pie(\n",
    "    labels=labels,\n",
    "    values=values,\n",
    "    hole=0.8,\n",
    "    textposition='outside',\n",
    "    textinfo=\"label+percent\",\n",
    "    marker={'colors': colors}\n",
    ")\n",
    "\n",
    "pie_layout = go.Layout(\n",
    "    # title='Verdeling van geslachten',\n",
    "    showlegend=False,\n",
    "    height=600,\n",
    "    annotations=[dict(text='N = 35', x=0.5, y=0.5, font_size=20, showarrow=False)]\n",
    ")\n",
    "\n",
    "fig = go.Figure(\n",
    "    data=[pie_trace],\n",
    "    layout=pie_layout\n",
    ")\n",
    "\n",
    "fig.show()"
   ]
  },
  {
   "cell_type": "code",
   "execution_count": 18,
   "metadata": {},
   "outputs": [
    {
     "data": {
      "image/png": "[encoded data removed]",
      "text/plain": [
       "<Figure size 1000x600 with 1 Axes>"
      ]
     },
     "metadata": {},
     "output_type": "display_data"
    }
   ],
   "source": [
    "correlation_results = []\n",
    "sport_types = ['interceptive', 'static', 'strategic', 'no_sport']\n",
    "\n",
    "for sport_type in sport_types:\n",
    "    correlation, p_value = pearsonr(data[sport_type], data['score'])\n",
    "    correlation_results.append({'sport_type': sport_type, 'correlation': correlation, 'p_value': p_value})\n",
    "\n",
    "# Converteer de resultaten naar een DataFrame\n",
    "correlation_df = pd.DataFrame(correlation_results)\n",
    "\n",
    "# Maak een staafdiagram\n",
    "plt.figure(figsize=(10, 6))\n",
    "bar_plot = sns.barplot(x='sport_type', y='correlation', data=correlation_df, palette='viridis')\n",
    "\n",
    "# Voeg een rode stippellijn toe bij y=0\n",
    "plt.axhline(0, color='red', linestyle='--')\n",
    "\n",
    "# Voeg de p-waarden toe als annotaties binnen de balken\n",
    "for index, row in correlation_df.iterrows():\n",
    "    y_position = row['correlation'] - 0.05 if row['correlation'] > 0 else row['correlation'] + 0.01\n",
    "    bar_plot.text(index, y_position, f'p = {row[\"p_value\"]:.2f}', color='white', ha=\"center\")\n",
    "\n",
    "plt.title('Correlatie tussen verschillen typen sport en de gecombineerde SART score\\n(Lagere score is beter)')\n",
    "plt.xlabel('Type sport')\n",
    "plt.ylabel('Correlatie met de gecomineerde SART score (p-waarde)')\n",
    "plt.savefig('sport_type_correlation.png')"
   ]
  },
  {
   "cell_type": "code",
   "execution_count": 30,
   "metadata": {},
   "outputs": [
    {
     "data": {
      "text/html": [
       "<div>\n",
       "<style scoped>\n",
       "    .dataframe tbody tr th:only-of-type {\n",
       "        vertical-align: middle;\n",
       "    }\n",
       "\n",
       "    .dataframe tbody tr th {\n",
       "        vertical-align: top;\n",
       "    }\n",
       "\n",
       "    .dataframe thead th {\n",
       "        text-align: right;\n",
       "    }\n",
       "</style>\n",
       "<table border=\"1\" class=\"dataframe\">\n",
       "  <thead>\n",
       "    <tr style=\"text-align: right;\">\n",
       "      <th></th>\n",
       "      <th>sport_type</th>\n",
       "      <th>correlation</th>\n",
       "      <th>p_value</th>\n",
       "    </tr>\n",
       "  </thead>\n",
       "  <tbody>\n",
       "    <tr>\n",
       "      <th>0</th>\n",
       "      <td>interceptive</td>\n",
       "      <td>-0.070583</td>\n",
       "      <td>0.687014</td>\n",
       "    </tr>\n",
       "    <tr>\n",
       "      <th>1</th>\n",
       "      <td>static</td>\n",
       "      <td>-0.051237</td>\n",
       "      <td>0.770053</td>\n",
       "    </tr>\n",
       "    <tr>\n",
       "      <th>2</th>\n",
       "      <td>strategic</td>\n",
       "      <td>0.070417</td>\n",
       "      <td>0.687713</td>\n",
       "    </tr>\n",
       "    <tr>\n",
       "      <th>3</th>\n",
       "      <td>no_sport</td>\n",
       "      <td>0.081128</td>\n",
       "      <td>0.643156</td>\n",
       "    </tr>\n",
       "  </tbody>\n",
       "</table>\n",
       "</div>"
      ],
      "text/plain": [
       "     sport_type  correlation   p_value\n",
       "0  interceptive    -0.070583  0.687014\n",
       "1        static    -0.051237  0.770053\n",
       "2     strategic     0.070417  0.687713\n",
       "3      no_sport     0.081128  0.643156"
      ]
     },
     "metadata": {},
     "output_type": "display_data"
    },
    {
     "name": "stdout",
     "output_type": "stream",
     "text": [
      "0.29 0.12 0.24\n"
     ]
    }
   ],
   "source": [
    "n_interceptive = sport_type_counts['interceptive']\n",
    "n_static = sport_type_counts['static']\n",
    "n_strategic = sport_type_counts['strategic']\n",
    "\n",
    "display(correlation_df)\n",
    "moe_interceptive = margin_of_error(0.687014, n_interceptive)\n",
    "moe_static = margin_of_error(0.770053, n_static)\n",
    "moe_strategic = margin_of_error(0.687713, n_strategic)\n",
    "\n",
    "print(moe_interceptive, moe_static, moe_strategic)"
   ]
  }
 ],
 "metadata": {
  "kernelspec": {
   "display_name": "Python 3 (ipykernel)",
   "language": "python",
   "name": "python3"
  },
  "language_info": {
   "codemirror_mode": {
    "name": "ipython",
    "version": 3
   },
   "file_extension": ".py",
   "mimetype": "text/x-python",
   "name": "python",
   "nbconvert_exporter": "python",
   "pygments_lexer": "ipython3",
   "version": "3.11.7"
  }
 },
 "nbformat": 4,
 "nbformat_minor": 4
}
